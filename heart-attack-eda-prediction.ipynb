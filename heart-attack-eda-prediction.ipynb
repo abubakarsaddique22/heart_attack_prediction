{
 "cells": [
  {
   "cell_type": "markdown",
   "id": "2ea978b8",
   "metadata": {
    "papermill": {
     "duration": 0.012499,
     "end_time": "2024-07-24T13:56:18.644245",
     "exception": false,
     "start_time": "2024-07-24T13:56:18.631746",
     "status": "completed"
    },
    "tags": []
   },
   "source": [
    "<div style=\"border-radius: 0 40px; border: 2px solid #ffea00; padding: 10px; background-color: #6082B6; text-align: center; box-shadow: 0px 2px 4px rgba(0, 0, 0, 0.2);\">\n",
    "    <h1 style=\"color: #ffff00; text-shadow: 1px 1px 2px rgba(0, 0, 0, 0.5); font-weight: bold; margin-bottom: 5px; font-size: 24px;\">Heart Attack</h1>\n",
    "</div>"
   ]
  },
  {
   "cell_type": "markdown",
   "id": "3030639f",
   "metadata": {
    "papermill": {
     "duration": 0.012075,
     "end_time": "2024-07-24T13:56:18.668600",
     "exception": false,
     "start_time": "2024-07-24T13:56:18.656525",
     "status": "completed"
    },
    "tags": []
   },
   "source": [
    "![heart_pic.png](https://pfst.cf2.poecdn.net/base/image/2ce67097d28399a71d81ec4418af5d3c3ff40e08f515e91541778b7a1d7141ba?w=1024&h=1024&pmaid=54522867)"
   ]
  },
  {
   "cell_type": "markdown",
   "id": "993c490e",
   "metadata": {
    "papermill": {
     "duration": 0.011922,
     "end_time": "2024-07-24T13:56:18.718109",
     "exception": false,
     "start_time": "2024-07-24T13:56:18.706187",
     "status": "completed"
    },
    "tags": []
   },
   "source": [
    "<div style=\"border-radius: 0px 40px; border: 2px solid #ffea00; padding: 10px; background-color: #6082B6; text-align: center; box-shadow: 0px 2px 4px rgba(0, 0, 0, 0.2);\">\n",
    "    <h1 style=\"color: #ffff00; text-shadow: 1px 1px 2px rgba(0, 0, 0, 0.5); font-weight: bold; margin-bottom: 5px; font-size: 24px;\">About this dataset</h1>\n",
    "</div>\n",
    "\n",
    "`Age` : Age of the patient\n",
    "\n",
    "`Sex `: Sex of the patient\n",
    "\n",
    "`exang`: exercise induced angina (1 = yes; 0 = no)\n",
    "\n",
    "`ca`: number of major vessels (0-3)\n",
    "\n",
    "`cp` : Chest Pain type chest pain type\n",
    "\n",
    "- Value 1: typical angina\n",
    "- Value 2: atypical angina\n",
    "- Value 3: non-anginal pain\n",
    "- Value 4: asymptomatic\n",
    "\n",
    "`trtbps` : resting blood pressure (in mm Hg)\n",
    "\n",
    "`chol` : cholestoral in mg/dl fetched via BMI sensor\n",
    "\n",
    "`fbs` : (fasting blood sugar > 120 mg/dl) (1 = true; 0 = false)\n",
    "\n",
    "`rest_ecg` : resting electrocardiographic results\n",
    "\n",
    "- Value 0: normal\n",
    "- Value 1: having ST-T wave abnormality (T wave inversions and/or ST elevation or depression of > 0.05 mV)\n",
    "- Value 2: showing probable or definite left ventricular hypertrophy by Estes' criteria\n",
    "\n",
    "`thalach` : maximum heart rate achieved\n",
    "\n",
    "`target` : 0= less chance of heart attack 1= more chance of heart attack n"
   ]
  },
  {
   "cell_type": "markdown",
   "id": "d0879fa1",
   "metadata": {
    "papermill": {
     "duration": 0.011773,
     "end_time": "2024-07-24T13:56:18.742029",
     "exception": false,
     "start_time": "2024-07-24T13:56:18.730256",
     "status": "completed"
    },
    "tags": []
   },
   "source": [
    "<div style=\"border-radius: 0px 40px; border: 2px solid #ffea00; padding: 10px; background-color: #6082B6; text-align: center; box-shadow: 0px 2px 4px rgba(0, 0, 0, 0.2);\">\n",
    "    <h1 style=\"color: #ffff00; text-shadow: 1px 1px 2px rgba(0, 0, 0, 0.5); font-weight: bold; margin-bottom: 5px; font-size: 24px;\">Import Libaries</h1>\n",
    "</div>"
   ]
  },
  {
   "cell_type": "code",
   "execution_count": 1,
   "id": "aa385561",
   "metadata": {
    "execution": {
     "iopub.execute_input": "2024-07-24T13:56:18.767953Z",
     "iopub.status.busy": "2024-07-24T13:56:18.767525Z",
     "iopub.status.idle": "2024-07-24T13:56:21.807629Z",
     "shell.execute_reply": "2024-07-24T13:56:21.806426Z"
    },
    "papermill": {
     "duration": 3.056071,
     "end_time": "2024-07-24T13:56:21.810245",
     "exception": false,
     "start_time": "2024-07-24T13:56:18.754174",
     "status": "completed"
    },
    "tags": []
   },
   "outputs": [],
   "source": [
    "import numpy as np \n",
    "import pandas as pd \n",
    "import matplotlib.pyplot as plt \n",
    "import seaborn as sns \n",
    "\n",
    "# import modals\n",
    "from sklearn.linear_model import LogisticRegression\n",
    "from sklearn.naive_bayes import GaussianNB\n",
    "from sklearn.neighbors import KNeighborsClassifier\n",
    "from sklearn.svm import SVC\n",
    "from sklearn.tree import DecisionTreeClassifier\n",
    "from sklearn.ensemble import RandomForestClassifier,GradientBoostingClassifier\n",
    "from xgboost import XGBClassifier\n",
    "\n",
    "# preporccessing\n",
    "from sklearn.preprocessing import LabelEncoder,StandardScaler\n",
    "\n",
    "# model selection \n",
    "from sklearn.model_selection import train_test_split,cross_val_score\n",
    "\n",
    "# metrics\n",
    "from sklearn.metrics import accuracy_score,confusion_matrix,classification_report\n",
    "\n",
    "\n",
    "import warnings\n",
    "warnings.filterwarnings('ignore')\n"
   ]
  },
  {
   "cell_type": "markdown",
   "id": "3cd48dc5",
   "metadata": {
    "papermill": {
     "duration": 0.012669,
     "end_time": "2024-07-24T13:56:21.836018",
     "exception": false,
     "start_time": "2024-07-24T13:56:21.823349",
     "status": "completed"
    },
    "tags": []
   },
   "source": [
    "<div style=\"border-radius: 0px 40px; border: 2px solid #ffea00; padding: 10px; background-color: #6082B6; text-align: center; box-shadow: 0px 2px 4px rgba(0, 0, 0, 0.2);\">\n",
    "    <h1 style=\"color: #ffff00; text-shadow: 1px 1px 2px rgba(0, 0, 0, 0.5); font-weight: bold; margin-bottom: 5px; font-size: 24px;\">Read Dataset</h1>\n",
    "</div>"
   ]
  },
  {
   "cell_type": "code",
   "execution_count": 2,
   "id": "37da79eb",
   "metadata": {
    "execution": {
     "iopub.execute_input": "2024-07-24T13:56:21.863757Z",
     "iopub.status.busy": "2024-07-24T13:56:21.863166Z",
     "iopub.status.idle": "2024-07-24T13:56:21.913775Z",
     "shell.execute_reply": "2024-07-24T13:56:21.912614Z"
    },
    "papermill": {
     "duration": 0.067552,
     "end_time": "2024-07-24T13:56:21.916216",
     "exception": false,
     "start_time": "2024-07-24T13:56:21.848664",
     "status": "completed"
    },
    "tags": []
   },
   "outputs": [
    {
     "data": {
      "text/html": [
       "<div>\n",
       "<style scoped>\n",
       "    .dataframe tbody tr th:only-of-type {\n",
       "        vertical-align: middle;\n",
       "    }\n",
       "\n",
       "    .dataframe tbody tr th {\n",
       "        vertical-align: top;\n",
       "    }\n",
       "\n",
       "    .dataframe thead th {\n",
       "        text-align: right;\n",
       "    }\n",
       "</style>\n",
       "<table border=\"1\" class=\"dataframe\">\n",
       "  <thead>\n",
       "    <tr style=\"text-align: right;\">\n",
       "      <th></th>\n",
       "      <th>age</th>\n",
       "      <th>sex</th>\n",
       "      <th>cp</th>\n",
       "      <th>trtbps</th>\n",
       "      <th>chol</th>\n",
       "      <th>fbs</th>\n",
       "      <th>restecg</th>\n",
       "      <th>thalachh</th>\n",
       "      <th>exng</th>\n",
       "      <th>oldpeak</th>\n",
       "      <th>slp</th>\n",
       "      <th>caa</th>\n",
       "      <th>thall</th>\n",
       "      <th>output</th>\n",
       "    </tr>\n",
       "  </thead>\n",
       "  <tbody>\n",
       "    <tr>\n",
       "      <th>0</th>\n",
       "      <td>63</td>\n",
       "      <td>1</td>\n",
       "      <td>3</td>\n",
       "      <td>145</td>\n",
       "      <td>233</td>\n",
       "      <td>1</td>\n",
       "      <td>0</td>\n",
       "      <td>150</td>\n",
       "      <td>0</td>\n",
       "      <td>2.3</td>\n",
       "      <td>0</td>\n",
       "      <td>0</td>\n",
       "      <td>1</td>\n",
       "      <td>1</td>\n",
       "    </tr>\n",
       "    <tr>\n",
       "      <th>1</th>\n",
       "      <td>37</td>\n",
       "      <td>1</td>\n",
       "      <td>2</td>\n",
       "      <td>130</td>\n",
       "      <td>250</td>\n",
       "      <td>0</td>\n",
       "      <td>1</td>\n",
       "      <td>187</td>\n",
       "      <td>0</td>\n",
       "      <td>3.5</td>\n",
       "      <td>0</td>\n",
       "      <td>0</td>\n",
       "      <td>2</td>\n",
       "      <td>1</td>\n",
       "    </tr>\n",
       "    <tr>\n",
       "      <th>2</th>\n",
       "      <td>41</td>\n",
       "      <td>0</td>\n",
       "      <td>1</td>\n",
       "      <td>130</td>\n",
       "      <td>204</td>\n",
       "      <td>0</td>\n",
       "      <td>0</td>\n",
       "      <td>172</td>\n",
       "      <td>0</td>\n",
       "      <td>1.4</td>\n",
       "      <td>2</td>\n",
       "      <td>0</td>\n",
       "      <td>2</td>\n",
       "      <td>1</td>\n",
       "    </tr>\n",
       "    <tr>\n",
       "      <th>3</th>\n",
       "      <td>56</td>\n",
       "      <td>1</td>\n",
       "      <td>1</td>\n",
       "      <td>120</td>\n",
       "      <td>236</td>\n",
       "      <td>0</td>\n",
       "      <td>1</td>\n",
       "      <td>178</td>\n",
       "      <td>0</td>\n",
       "      <td>0.8</td>\n",
       "      <td>2</td>\n",
       "      <td>0</td>\n",
       "      <td>2</td>\n",
       "      <td>1</td>\n",
       "    </tr>\n",
       "    <tr>\n",
       "      <th>4</th>\n",
       "      <td>57</td>\n",
       "      <td>0</td>\n",
       "      <td>0</td>\n",
       "      <td>120</td>\n",
       "      <td>354</td>\n",
       "      <td>0</td>\n",
       "      <td>1</td>\n",
       "      <td>163</td>\n",
       "      <td>1</td>\n",
       "      <td>0.6</td>\n",
       "      <td>2</td>\n",
       "      <td>0</td>\n",
       "      <td>2</td>\n",
       "      <td>1</td>\n",
       "    </tr>\n",
       "  </tbody>\n",
       "</table>\n",
       "</div>"
      ],
      "text/plain": [
       "   age  sex  cp  trtbps  chol  fbs  restecg  thalachh  exng  oldpeak  slp  \\\n",
       "0   63    1   3     145   233    1        0       150     0      2.3    0   \n",
       "1   37    1   2     130   250    0        1       187     0      3.5    0   \n",
       "2   41    0   1     130   204    0        0       172     0      1.4    2   \n",
       "3   56    1   1     120   236    0        1       178     0      0.8    2   \n",
       "4   57    0   0     120   354    0        1       163     1      0.6    2   \n",
       "\n",
       "   caa  thall  output  \n",
       "0    0      1       1  \n",
       "1    0      2       1  \n",
       "2    0      2       1  \n",
       "3    0      2       1  \n",
       "4    0      2       1  "
      ]
     },
     "execution_count": 2,
     "metadata": {},
     "output_type": "execute_result"
    }
   ],
   "source": [
    "df=pd.read_csv('/kaggle/input/heart-attack-analysis-prediction-dataset/heart.csv')\n",
    "df.head()"
   ]
  },
  {
   "cell_type": "code",
   "execution_count": 3,
   "id": "2814706e",
   "metadata": {
    "execution": {
     "iopub.execute_input": "2024-07-24T13:56:21.943673Z",
     "iopub.status.busy": "2024-07-24T13:56:21.943246Z",
     "iopub.status.idle": "2024-07-24T13:56:21.958473Z",
     "shell.execute_reply": "2024-07-24T13:56:21.957405Z"
    },
    "papermill": {
     "duration": 0.031305,
     "end_time": "2024-07-24T13:56:21.960676",
     "exception": false,
     "start_time": "2024-07-24T13:56:21.929371",
     "status": "completed"
    },
    "tags": []
   },
   "outputs": [
    {
     "data": {
      "text/html": [
       "<div>\n",
       "<style scoped>\n",
       "    .dataframe tbody tr th:only-of-type {\n",
       "        vertical-align: middle;\n",
       "    }\n",
       "\n",
       "    .dataframe tbody tr th {\n",
       "        vertical-align: top;\n",
       "    }\n",
       "\n",
       "    .dataframe thead th {\n",
       "        text-align: right;\n",
       "    }\n",
       "</style>\n",
       "<table border=\"1\" class=\"dataframe\">\n",
       "  <thead>\n",
       "    <tr style=\"text-align: right;\">\n",
       "      <th></th>\n",
       "      <th>age</th>\n",
       "      <th>sex</th>\n",
       "      <th>cp</th>\n",
       "      <th>trtbps</th>\n",
       "      <th>chol</th>\n",
       "      <th>fbs</th>\n",
       "      <th>restecg</th>\n",
       "      <th>thalachh</th>\n",
       "      <th>exng</th>\n",
       "      <th>oldpeak</th>\n",
       "      <th>slp</th>\n",
       "      <th>caa</th>\n",
       "      <th>thall</th>\n",
       "      <th>output</th>\n",
       "    </tr>\n",
       "  </thead>\n",
       "  <tbody>\n",
       "    <tr>\n",
       "      <th>298</th>\n",
       "      <td>57</td>\n",
       "      <td>0</td>\n",
       "      <td>0</td>\n",
       "      <td>140</td>\n",
       "      <td>241</td>\n",
       "      <td>0</td>\n",
       "      <td>1</td>\n",
       "      <td>123</td>\n",
       "      <td>1</td>\n",
       "      <td>0.2</td>\n",
       "      <td>1</td>\n",
       "      <td>0</td>\n",
       "      <td>3</td>\n",
       "      <td>0</td>\n",
       "    </tr>\n",
       "    <tr>\n",
       "      <th>299</th>\n",
       "      <td>45</td>\n",
       "      <td>1</td>\n",
       "      <td>3</td>\n",
       "      <td>110</td>\n",
       "      <td>264</td>\n",
       "      <td>0</td>\n",
       "      <td>1</td>\n",
       "      <td>132</td>\n",
       "      <td>0</td>\n",
       "      <td>1.2</td>\n",
       "      <td>1</td>\n",
       "      <td>0</td>\n",
       "      <td>3</td>\n",
       "      <td>0</td>\n",
       "    </tr>\n",
       "    <tr>\n",
       "      <th>300</th>\n",
       "      <td>68</td>\n",
       "      <td>1</td>\n",
       "      <td>0</td>\n",
       "      <td>144</td>\n",
       "      <td>193</td>\n",
       "      <td>1</td>\n",
       "      <td>1</td>\n",
       "      <td>141</td>\n",
       "      <td>0</td>\n",
       "      <td>3.4</td>\n",
       "      <td>1</td>\n",
       "      <td>2</td>\n",
       "      <td>3</td>\n",
       "      <td>0</td>\n",
       "    </tr>\n",
       "    <tr>\n",
       "      <th>301</th>\n",
       "      <td>57</td>\n",
       "      <td>1</td>\n",
       "      <td>0</td>\n",
       "      <td>130</td>\n",
       "      <td>131</td>\n",
       "      <td>0</td>\n",
       "      <td>1</td>\n",
       "      <td>115</td>\n",
       "      <td>1</td>\n",
       "      <td>1.2</td>\n",
       "      <td>1</td>\n",
       "      <td>1</td>\n",
       "      <td>3</td>\n",
       "      <td>0</td>\n",
       "    </tr>\n",
       "    <tr>\n",
       "      <th>302</th>\n",
       "      <td>57</td>\n",
       "      <td>0</td>\n",
       "      <td>1</td>\n",
       "      <td>130</td>\n",
       "      <td>236</td>\n",
       "      <td>0</td>\n",
       "      <td>0</td>\n",
       "      <td>174</td>\n",
       "      <td>0</td>\n",
       "      <td>0.0</td>\n",
       "      <td>1</td>\n",
       "      <td>1</td>\n",
       "      <td>2</td>\n",
       "      <td>0</td>\n",
       "    </tr>\n",
       "  </tbody>\n",
       "</table>\n",
       "</div>"
      ],
      "text/plain": [
       "     age  sex  cp  trtbps  chol  fbs  restecg  thalachh  exng  oldpeak  slp  \\\n",
       "298   57    0   0     140   241    0        1       123     1      0.2    1   \n",
       "299   45    1   3     110   264    0        1       132     0      1.2    1   \n",
       "300   68    1   0     144   193    1        1       141     0      3.4    1   \n",
       "301   57    1   0     130   131    0        1       115     1      1.2    1   \n",
       "302   57    0   1     130   236    0        0       174     0      0.0    1   \n",
       "\n",
       "     caa  thall  output  \n",
       "298    0      3       0  \n",
       "299    0      3       0  \n",
       "300    2      3       0  \n",
       "301    1      3       0  \n",
       "302    1      2       0  "
      ]
     },
     "execution_count": 3,
     "metadata": {},
     "output_type": "execute_result"
    }
   ],
   "source": [
    "df.tail()"
   ]
  },
  {
   "cell_type": "markdown",
   "id": "3617b38b",
   "metadata": {
    "papermill": {
     "duration": 0.012725,
     "end_time": "2024-07-24T13:56:21.986483",
     "exception": false,
     "start_time": "2024-07-24T13:56:21.973758",
     "status": "completed"
    },
    "tags": []
   },
   "source": [
    "<div style=\"border-radius: 0px 30px; border: 2px solid #ffea00; padding: 3px; background-color: #6082B6; text-align: center; box-shadow: 0px 2px 4px rgba(0, 0, 0, 0.2);\">\n",
    "    <h1 style=\"color: #ffff00; text-shadow: 1px 1px 2px rgba(0, 0, 0, 0.5); font-weight: bold; margin-bottom: 3px; font-size: 20px;\">Data Understand</h1>\n",
    "</div>"
   ]
  },
  {
   "cell_type": "code",
   "execution_count": 4,
   "id": "a1afacc2",
   "metadata": {
    "execution": {
     "iopub.execute_input": "2024-07-24T13:56:22.014533Z",
     "iopub.status.busy": "2024-07-24T13:56:22.013478Z",
     "iopub.status.idle": "2024-07-24T13:56:22.020321Z",
     "shell.execute_reply": "2024-07-24T13:56:22.019266Z"
    },
    "papermill": {
     "duration": 0.023332,
     "end_time": "2024-07-24T13:56:22.022679",
     "exception": false,
     "start_time": "2024-07-24T13:56:21.999347",
     "status": "completed"
    },
    "tags": []
   },
   "outputs": [
    {
     "data": {
      "text/plain": [
       "(303, 14)"
      ]
     },
     "execution_count": 4,
     "metadata": {},
     "output_type": "execute_result"
    }
   ],
   "source": [
    "df.shape"
   ]
  },
  {
   "cell_type": "code",
   "execution_count": 5,
   "id": "634384e3",
   "metadata": {
    "execution": {
     "iopub.execute_input": "2024-07-24T13:56:22.050282Z",
     "iopub.status.busy": "2024-07-24T13:56:22.049881Z",
     "iopub.status.idle": "2024-07-24T13:56:22.074391Z",
     "shell.execute_reply": "2024-07-24T13:56:22.073040Z"
    },
    "papermill": {
     "duration": 0.041263,
     "end_time": "2024-07-24T13:56:22.076951",
     "exception": false,
     "start_time": "2024-07-24T13:56:22.035688",
     "status": "completed"
    },
    "tags": []
   },
   "outputs": [
    {
     "name": "stdout",
     "output_type": "stream",
     "text": [
      "<class 'pandas.core.frame.DataFrame'>\n",
      "RangeIndex: 303 entries, 0 to 302\n",
      "Data columns (total 14 columns):\n",
      " #   Column    Non-Null Count  Dtype  \n",
      "---  ------    --------------  -----  \n",
      " 0   age       303 non-null    int64  \n",
      " 1   sex       303 non-null    int64  \n",
      " 2   cp        303 non-null    int64  \n",
      " 3   trtbps    303 non-null    int64  \n",
      " 4   chol      303 non-null    int64  \n",
      " 5   fbs       303 non-null    int64  \n",
      " 6   restecg   303 non-null    int64  \n",
      " 7   thalachh  303 non-null    int64  \n",
      " 8   exng      303 non-null    int64  \n",
      " 9   oldpeak   303 non-null    float64\n",
      " 10  slp       303 non-null    int64  \n",
      " 11  caa       303 non-null    int64  \n",
      " 12  thall     303 non-null    int64  \n",
      " 13  output    303 non-null    int64  \n",
      "dtypes: float64(1), int64(13)\n",
      "memory usage: 33.3 KB\n"
     ]
    }
   ],
   "source": [
    "df.info()"
   ]
  },
  {
   "cell_type": "code",
   "execution_count": 6,
   "id": "781edc93",
   "metadata": {
    "execution": {
     "iopub.execute_input": "2024-07-24T13:56:22.106102Z",
     "iopub.status.busy": "2024-07-24T13:56:22.105337Z",
     "iopub.status.idle": "2024-07-24T13:56:22.112393Z",
     "shell.execute_reply": "2024-07-24T13:56:22.111266Z"
    },
    "papermill": {
     "duration": 0.024561,
     "end_time": "2024-07-24T13:56:22.114806",
     "exception": false,
     "start_time": "2024-07-24T13:56:22.090245",
     "status": "completed"
    },
    "tags": []
   },
   "outputs": [
    {
     "data": {
      "text/plain": [
       "Index(['age', 'sex', 'cp', 'trtbps', 'chol', 'fbs', 'restecg', 'thalachh',\n",
       "       'exng', 'oldpeak', 'slp', 'caa', 'thall', 'output'],\n",
       "      dtype='object')"
      ]
     },
     "execution_count": 6,
     "metadata": {},
     "output_type": "execute_result"
    }
   ],
   "source": [
    "df.columns"
   ]
  },
  {
   "cell_type": "markdown",
   "id": "aa620b9e",
   "metadata": {
    "papermill": {
     "duration": 0.012837,
     "end_time": "2024-07-24T13:56:22.141433",
     "exception": false,
     "start_time": "2024-07-24T13:56:22.128596",
     "status": "completed"
    },
    "tags": []
   },
   "source": [
    "\n",
    "<div style=\"border-radius: 0px 30px; border: 2px solid #ffea00; padding: 3px; background-color: #6082B6; text-align: center; box-shadow: 0px 2px 4px rgba(0, 0, 0, 0.2);\">\n",
    "    <h1 style=\"color: #ffff00; text-shadow: 1px 1px 2px rgba(0, 0, 0, 0.5); font-weight: bold; margin-bottom: 3px; font-size: 20px;\">Rename Columns</h1>\n",
    "</div>\n",
    "  "
   ]
  },
  {
   "cell_type": "code",
   "execution_count": 7,
   "id": "58e9208c",
   "metadata": {
    "execution": {
     "iopub.execute_input": "2024-07-24T13:56:22.170066Z",
     "iopub.status.busy": "2024-07-24T13:56:22.169232Z",
     "iopub.status.idle": "2024-07-24T13:56:22.176654Z",
     "shell.execute_reply": "2024-07-24T13:56:22.174901Z"
    },
    "papermill": {
     "duration": 0.024502,
     "end_time": "2024-07-24T13:56:22.179379",
     "exception": false,
     "start_time": "2024-07-24T13:56:22.154877",
     "status": "completed"
    },
    "tags": []
   },
   "outputs": [],
   "source": [
    "df.rename(columns={\n",
    "    \"age\":\"Age\",\n",
    "    \"sex\":\"Sex\",\n",
    "    \"cp\":\"ChestPain\",\n",
    "    \"trtbps\":\"RestingBloodPressure\",\n",
    "    \"chol\":\"Cholesterol\",\n",
    "    \"fbs\":\"FastingBloodSugar\",\n",
    "    \"restecg\":\"RestingECG\",\n",
    "    \"thalachh\":\"MaxHeartRate\",\n",
    "    \"exng\":\"ExcerciseAngina\",\n",
    "    \"oldpeak\":\"OldPeak\",\n",
    "    \"slp\":\"STSlope\",\n",
    "    \"caa\":\"nMajorVessels\",\n",
    "    \"thall\":\"Thalium\",\n",
    "    \"output\":\"Status\"\n",
    "}, inplace=True)"
   ]
  },
  {
   "cell_type": "markdown",
   "id": "ebac9618",
   "metadata": {
    "papermill": {
     "duration": 0.012715,
     "end_time": "2024-07-24T13:56:22.205522",
     "exception": false,
     "start_time": "2024-07-24T13:56:22.192807",
     "status": "completed"
    },
    "tags": []
   },
   "source": [
    "\n",
    "<div style=\"border-radius: 0px 40px; border: 2px solid #ffea00; padding: 10px; background-color: #6082B6; text-align: center; box-shadow: 0px 2px 4px rgba(0, 0, 0, 0.2);\">\n",
    "    <h1 style=\"color: #ffff00; text-shadow: 1px 1px 2px rgba(0, 0, 0, 0.5); font-weight: bold; margin-bottom: 5px; font-size: 24px;\">Data Cleaning</h1>\n",
    "</div>"
   ]
  },
  {
   "cell_type": "markdown",
   "id": "732075dc",
   "metadata": {
    "papermill": {
     "duration": 0.012859,
     "end_time": "2024-07-24T13:56:22.231799",
     "exception": false,
     "start_time": "2024-07-24T13:56:22.218940",
     "status": "completed"
    },
    "tags": []
   },
   "source": [
    "<div style=\"border-radius: 0px 30px; border: 2px solid #ffea00; padding: 3px; background-color: #6082B6; text-align: center; box-shadow: 0px 2px 4px rgba(0, 0, 0, 0.2);\">\n",
    "    <h1 style=\"color: #ffff00; text-shadow: 1px 1px 2px rgba(0, 0, 0, 0.5); font-weight: bold; margin-bottom: 3px; font-size: 20px;\">Missing Value</h1>\n",
    "</div>"
   ]
  },
  {
   "cell_type": "code",
   "execution_count": 8,
   "id": "8f1e42e2",
   "metadata": {
    "execution": {
     "iopub.execute_input": "2024-07-24T13:56:22.260106Z",
     "iopub.status.busy": "2024-07-24T13:56:22.259724Z",
     "iopub.status.idle": "2024-07-24T13:56:22.268084Z",
     "shell.execute_reply": "2024-07-24T13:56:22.267073Z"
    },
    "papermill": {
     "duration": 0.024817,
     "end_time": "2024-07-24T13:56:22.270208",
     "exception": false,
     "start_time": "2024-07-24T13:56:22.245391",
     "status": "completed"
    },
    "tags": []
   },
   "outputs": [
    {
     "data": {
      "text/plain": [
       "Age                     0\n",
       "Sex                     0\n",
       "ChestPain               0\n",
       "RestingBloodPressure    0\n",
       "Cholesterol             0\n",
       "FastingBloodSugar       0\n",
       "RestingECG              0\n",
       "MaxHeartRate            0\n",
       "ExcerciseAngina         0\n",
       "OldPeak                 0\n",
       "STSlope                 0\n",
       "nMajorVessels           0\n",
       "Thalium                 0\n",
       "Status                  0\n",
       "dtype: int64"
      ]
     },
     "execution_count": 8,
     "metadata": {},
     "output_type": "execute_result"
    }
   ],
   "source": [
    "df.isnull().sum()"
   ]
  },
  {
   "cell_type": "markdown",
   "id": "d8b8c135",
   "metadata": {
    "papermill": {
     "duration": 0.012897,
     "end_time": "2024-07-24T13:56:22.296394",
     "exception": false,
     "start_time": "2024-07-24T13:56:22.283497",
     "status": "completed"
    },
    "tags": []
   },
   "source": [
    "\n",
    "<div style=\"border-radius:0px 30px; border: 2px solid #ffea00; padding: 3px; background-color: #6082B6; text-align: center; box-shadow: 0px 2px 4px rgba(0, 0, 0, 0.2);\">\n",
    "    <h1 style=\"color: #ffff00; text-shadow: 1px 1px 2px rgba(0, 0, 0, 0.5); font-weight: bold; margin-bottom: 3px; font-size: 20px;\">Drop Duplicated</h1>\n",
    "</div>"
   ]
  },
  {
   "cell_type": "code",
   "execution_count": 9,
   "id": "3d153c56",
   "metadata": {
    "execution": {
     "iopub.execute_input": "2024-07-24T13:56:22.324526Z",
     "iopub.status.busy": "2024-07-24T13:56:22.324153Z",
     "iopub.status.idle": "2024-07-24T13:56:22.332189Z",
     "shell.execute_reply": "2024-07-24T13:56:22.331109Z"
    },
    "papermill": {
     "duration": 0.02481,
     "end_time": "2024-07-24T13:56:22.334611",
     "exception": false,
     "start_time": "2024-07-24T13:56:22.309801",
     "status": "completed"
    },
    "tags": []
   },
   "outputs": [
    {
     "name": "stdout",
     "output_type": "stream",
     "text": [
      "total duplicat values :  1\n"
     ]
    }
   ],
   "source": [
    "print(\"total duplicat values : \",df.duplicated().sum())"
   ]
  },
  {
   "cell_type": "markdown",
   "id": "759ac24c",
   "metadata": {
    "papermill": {
     "duration": 0.013017,
     "end_time": "2024-07-24T13:56:22.360906",
     "exception": false,
     "start_time": "2024-07-24T13:56:22.347889",
     "status": "completed"
    },
    "tags": []
   },
   "source": [
    "<div style=\"border-radius:0px 40px; border: 2px solid #ffea00; padding: 3px; background-color: #6082B6; text-align: center; box-shadow: 0px 2px 4px rgba(0, 0, 0, 0.2);\">\n",
    "    <h1 style=\"color: #ffff00; text-shadow: 1px 1px 2px rgba(0, 0, 0, 0.5); font-weight: bold; margin-bottom: 3px; font-size: 24px;\">Statistical Summary</h1>\n",
    "</div>"
   ]
  },
  {
   "cell_type": "code",
   "execution_count": 10,
   "id": "0ff1a2ae",
   "metadata": {
    "execution": {
     "iopub.execute_input": "2024-07-24T13:56:22.446671Z",
     "iopub.status.busy": "2024-07-24T13:56:22.446261Z",
     "iopub.status.idle": "2024-07-24T13:56:22.494324Z",
     "shell.execute_reply": "2024-07-24T13:56:22.493202Z"
    },
    "papermill": {
     "duration": 0.122829,
     "end_time": "2024-07-24T13:56:22.497040",
     "exception": false,
     "start_time": "2024-07-24T13:56:22.374211",
     "status": "completed"
    },
    "tags": []
   },
   "outputs": [
    {
     "data": {
      "text/html": [
       "<div>\n",
       "<style scoped>\n",
       "    .dataframe tbody tr th:only-of-type {\n",
       "        vertical-align: middle;\n",
       "    }\n",
       "\n",
       "    .dataframe tbody tr th {\n",
       "        vertical-align: top;\n",
       "    }\n",
       "\n",
       "    .dataframe thead th {\n",
       "        text-align: right;\n",
       "    }\n",
       "</style>\n",
       "<table border=\"1\" class=\"dataframe\">\n",
       "  <thead>\n",
       "    <tr style=\"text-align: right;\">\n",
       "      <th></th>\n",
       "      <th>Age</th>\n",
       "      <th>Sex</th>\n",
       "      <th>ChestPain</th>\n",
       "      <th>RestingBloodPressure</th>\n",
       "      <th>Cholesterol</th>\n",
       "      <th>FastingBloodSugar</th>\n",
       "      <th>RestingECG</th>\n",
       "      <th>MaxHeartRate</th>\n",
       "      <th>ExcerciseAngina</th>\n",
       "      <th>OldPeak</th>\n",
       "      <th>STSlope</th>\n",
       "      <th>nMajorVessels</th>\n",
       "      <th>Thalium</th>\n",
       "      <th>Status</th>\n",
       "    </tr>\n",
       "  </thead>\n",
       "  <tbody>\n",
       "    <tr>\n",
       "      <th>count</th>\n",
       "      <td>303.000000</td>\n",
       "      <td>303.000000</td>\n",
       "      <td>303.000000</td>\n",
       "      <td>303.000000</td>\n",
       "      <td>303.000000</td>\n",
       "      <td>303.000000</td>\n",
       "      <td>303.000000</td>\n",
       "      <td>303.000000</td>\n",
       "      <td>303.000000</td>\n",
       "      <td>303.000000</td>\n",
       "      <td>303.000000</td>\n",
       "      <td>303.000000</td>\n",
       "      <td>303.000000</td>\n",
       "      <td>303.000000</td>\n",
       "    </tr>\n",
       "    <tr>\n",
       "      <th>mean</th>\n",
       "      <td>54.366337</td>\n",
       "      <td>0.683168</td>\n",
       "      <td>0.966997</td>\n",
       "      <td>131.623762</td>\n",
       "      <td>246.264026</td>\n",
       "      <td>0.148515</td>\n",
       "      <td>0.528053</td>\n",
       "      <td>149.646865</td>\n",
       "      <td>0.326733</td>\n",
       "      <td>1.039604</td>\n",
       "      <td>1.399340</td>\n",
       "      <td>0.729373</td>\n",
       "      <td>2.313531</td>\n",
       "      <td>0.544554</td>\n",
       "    </tr>\n",
       "    <tr>\n",
       "      <th>std</th>\n",
       "      <td>9.082101</td>\n",
       "      <td>0.466011</td>\n",
       "      <td>1.032052</td>\n",
       "      <td>17.538143</td>\n",
       "      <td>51.830751</td>\n",
       "      <td>0.356198</td>\n",
       "      <td>0.525860</td>\n",
       "      <td>22.905161</td>\n",
       "      <td>0.469794</td>\n",
       "      <td>1.161075</td>\n",
       "      <td>0.616226</td>\n",
       "      <td>1.022606</td>\n",
       "      <td>0.612277</td>\n",
       "      <td>0.498835</td>\n",
       "    </tr>\n",
       "    <tr>\n",
       "      <th>min</th>\n",
       "      <td>29.000000</td>\n",
       "      <td>0.000000</td>\n",
       "      <td>0.000000</td>\n",
       "      <td>94.000000</td>\n",
       "      <td>126.000000</td>\n",
       "      <td>0.000000</td>\n",
       "      <td>0.000000</td>\n",
       "      <td>71.000000</td>\n",
       "      <td>0.000000</td>\n",
       "      <td>0.000000</td>\n",
       "      <td>0.000000</td>\n",
       "      <td>0.000000</td>\n",
       "      <td>0.000000</td>\n",
       "      <td>0.000000</td>\n",
       "    </tr>\n",
       "    <tr>\n",
       "      <th>25%</th>\n",
       "      <td>47.500000</td>\n",
       "      <td>0.000000</td>\n",
       "      <td>0.000000</td>\n",
       "      <td>120.000000</td>\n",
       "      <td>211.000000</td>\n",
       "      <td>0.000000</td>\n",
       "      <td>0.000000</td>\n",
       "      <td>133.500000</td>\n",
       "      <td>0.000000</td>\n",
       "      <td>0.000000</td>\n",
       "      <td>1.000000</td>\n",
       "      <td>0.000000</td>\n",
       "      <td>2.000000</td>\n",
       "      <td>0.000000</td>\n",
       "    </tr>\n",
       "    <tr>\n",
       "      <th>50%</th>\n",
       "      <td>55.000000</td>\n",
       "      <td>1.000000</td>\n",
       "      <td>1.000000</td>\n",
       "      <td>130.000000</td>\n",
       "      <td>240.000000</td>\n",
       "      <td>0.000000</td>\n",
       "      <td>1.000000</td>\n",
       "      <td>153.000000</td>\n",
       "      <td>0.000000</td>\n",
       "      <td>0.800000</td>\n",
       "      <td>1.000000</td>\n",
       "      <td>0.000000</td>\n",
       "      <td>2.000000</td>\n",
       "      <td>1.000000</td>\n",
       "    </tr>\n",
       "    <tr>\n",
       "      <th>75%</th>\n",
       "      <td>61.000000</td>\n",
       "      <td>1.000000</td>\n",
       "      <td>2.000000</td>\n",
       "      <td>140.000000</td>\n",
       "      <td>274.500000</td>\n",
       "      <td>0.000000</td>\n",
       "      <td>1.000000</td>\n",
       "      <td>166.000000</td>\n",
       "      <td>1.000000</td>\n",
       "      <td>1.600000</td>\n",
       "      <td>2.000000</td>\n",
       "      <td>1.000000</td>\n",
       "      <td>3.000000</td>\n",
       "      <td>1.000000</td>\n",
       "    </tr>\n",
       "    <tr>\n",
       "      <th>max</th>\n",
       "      <td>77.000000</td>\n",
       "      <td>1.000000</td>\n",
       "      <td>3.000000</td>\n",
       "      <td>200.000000</td>\n",
       "      <td>564.000000</td>\n",
       "      <td>1.000000</td>\n",
       "      <td>2.000000</td>\n",
       "      <td>202.000000</td>\n",
       "      <td>1.000000</td>\n",
       "      <td>6.200000</td>\n",
       "      <td>2.000000</td>\n",
       "      <td>4.000000</td>\n",
       "      <td>3.000000</td>\n",
       "      <td>1.000000</td>\n",
       "    </tr>\n",
       "  </tbody>\n",
       "</table>\n",
       "</div>"
      ],
      "text/plain": [
       "              Age         Sex   ChestPain  RestingBloodPressure  Cholesterol  \\\n",
       "count  303.000000  303.000000  303.000000            303.000000   303.000000   \n",
       "mean    54.366337    0.683168    0.966997            131.623762   246.264026   \n",
       "std      9.082101    0.466011    1.032052             17.538143    51.830751   \n",
       "min     29.000000    0.000000    0.000000             94.000000   126.000000   \n",
       "25%     47.500000    0.000000    0.000000            120.000000   211.000000   \n",
       "50%     55.000000    1.000000    1.000000            130.000000   240.000000   \n",
       "75%     61.000000    1.000000    2.000000            140.000000   274.500000   \n",
       "max     77.000000    1.000000    3.000000            200.000000   564.000000   \n",
       "\n",
       "       FastingBloodSugar  RestingECG  MaxHeartRate  ExcerciseAngina  \\\n",
       "count         303.000000  303.000000    303.000000       303.000000   \n",
       "mean            0.148515    0.528053    149.646865         0.326733   \n",
       "std             0.356198    0.525860     22.905161         0.469794   \n",
       "min             0.000000    0.000000     71.000000         0.000000   \n",
       "25%             0.000000    0.000000    133.500000         0.000000   \n",
       "50%             0.000000    1.000000    153.000000         0.000000   \n",
       "75%             0.000000    1.000000    166.000000         1.000000   \n",
       "max             1.000000    2.000000    202.000000         1.000000   \n",
       "\n",
       "          OldPeak     STSlope  nMajorVessels     Thalium      Status  \n",
       "count  303.000000  303.000000     303.000000  303.000000  303.000000  \n",
       "mean     1.039604    1.399340       0.729373    2.313531    0.544554  \n",
       "std      1.161075    0.616226       1.022606    0.612277    0.498835  \n",
       "min      0.000000    0.000000       0.000000    0.000000    0.000000  \n",
       "25%      0.000000    1.000000       0.000000    2.000000    0.000000  \n",
       "50%      0.800000    1.000000       0.000000    2.000000    1.000000  \n",
       "75%      1.600000    2.000000       1.000000    3.000000    1.000000  \n",
       "max      6.200000    2.000000       4.000000    3.000000    1.000000  "
      ]
     },
     "execution_count": 10,
     "metadata": {},
     "output_type": "execute_result"
    }
   ],
   "source": [
    "df.describe()"
   ]
  },
  {
   "cell_type": "markdown",
   "id": "bc410438",
   "metadata": {
    "papermill": {
     "duration": 0.013604,
     "end_time": "2024-07-24T13:56:22.524693",
     "exception": false,
     "start_time": "2024-07-24T13:56:22.511089",
     "status": "completed"
    },
    "tags": []
   },
   "source": [
    "<div style=\"border-radius:0px 30px; border: 2px solid #ffea00; padding: 3px; background-color: #6082B6; text-align: center; box-shadow: 0px 2px 4px rgba(0, 0, 0, 0.2);\">\n",
    "    <h1 style=\"color: #ffff00; text-shadow: 1px 1px 2px rgba(0, 0, 0, 0.5); font-weight: bold; margin-bottom: 3px; font-size: 20px;\">Outlier Detection</h1>\n",
    "</div>"
   ]
  },
  {
   "cell_type": "code",
   "execution_count": 11,
   "id": "37b89b53",
   "metadata": {
    "execution": {
     "iopub.execute_input": "2024-07-24T13:56:22.553644Z",
     "iopub.status.busy": "2024-07-24T13:56:22.553252Z",
     "iopub.status.idle": "2024-07-24T13:56:22.561206Z",
     "shell.execute_reply": "2024-07-24T13:56:22.560218Z"
    },
    "papermill": {
     "duration": 0.024963,
     "end_time": "2024-07-24T13:56:22.563403",
     "exception": false,
     "start_time": "2024-07-24T13:56:22.538440",
     "status": "completed"
    },
    "tags": []
   },
   "outputs": [
    {
     "data": {
      "text/plain": [
       "Age                       int64\n",
       "Sex                       int64\n",
       "ChestPain                 int64\n",
       "RestingBloodPressure      int64\n",
       "Cholesterol               int64\n",
       "FastingBloodSugar         int64\n",
       "RestingECG                int64\n",
       "MaxHeartRate              int64\n",
       "ExcerciseAngina           int64\n",
       "OldPeak                 float64\n",
       "STSlope                   int64\n",
       "nMajorVessels             int64\n",
       "Thalium                   int64\n",
       "Status                    int64\n",
       "dtype: object"
      ]
     },
     "execution_count": 11,
     "metadata": {},
     "output_type": "execute_result"
    }
   ],
   "source": [
    "df.dtypes"
   ]
  },
  {
   "cell_type": "code",
   "execution_count": 12,
   "id": "32b639b7",
   "metadata": {
    "execution": {
     "iopub.execute_input": "2024-07-24T13:56:22.593156Z",
     "iopub.status.busy": "2024-07-24T13:56:22.592759Z",
     "iopub.status.idle": "2024-07-24T13:56:23.058125Z",
     "shell.execute_reply": "2024-07-24T13:56:23.056546Z"
    },
    "papermill": {
     "duration": 0.483147,
     "end_time": "2024-07-24T13:56:23.060532",
     "exception": false,
     "start_time": "2024-07-24T13:56:22.577385",
     "status": "completed"
    },
    "tags": []
   },
   "outputs": [
    {
     "data": {
      "text/plain": [
       "<Axes: >"
      ]
     },
     "execution_count": 12,
     "metadata": {},
     "output_type": "execute_result"
    },
    {
     "data": {
      "image/png": "[encoded data removed]",
      "text/plain": [
       "<Figure size 1500x500 with 1 Axes>"
      ]
     },
     "metadata": {},
     "output_type": "display_data"
    }
   ],
   "source": [
    "plt.figure(figsize=(15,5))\n",
    "sns.boxplot(data=df)"
   ]
  },
  {
   "cell_type": "code",
   "execution_count": 13,
   "id": "e32a2947",
   "metadata": {
    "execution": {
     "iopub.execute_input": "2024-07-24T13:56:23.092599Z",
     "iopub.status.busy": "2024-07-24T13:56:23.091401Z",
     "iopub.status.idle": "2024-07-24T13:56:23.117772Z",
     "shell.execute_reply": "2024-07-24T13:56:23.115951Z"
    },
    "papermill": {
     "duration": 0.045136,
     "end_time": "2024-07-24T13:56:23.120495",
     "exception": false,
     "start_time": "2024-07-24T13:56:23.075359",
     "status": "completed"
    },
    "tags": []
   },
   "outputs": [],
   "source": [
    "for col in df.columns:\n",
    "    Q1=np.percentile(df[col],25,interpolation='midpoint')\n",
    "    Q3=np.percentile(df[col],75,interpolation='midpoint')\n",
    "    IQR=Q3-Q1\n",
    "    lower_bound=Q1-(1.5*IQR)\n",
    "    upper_bound=Q3+(1.5*IQR)\n",
    "    df = df[(df[col] >= lower_bound) & (df[col] <= upper_bound)]\n"
   ]
  },
  {
   "cell_type": "code",
   "execution_count": 14,
   "id": "d31c1f8b",
   "metadata": {
    "execution": {
     "iopub.execute_input": "2024-07-24T13:56:23.152191Z",
     "iopub.status.busy": "2024-07-24T13:56:23.151734Z",
     "iopub.status.idle": "2024-07-24T13:56:23.596491Z",
     "shell.execute_reply": "2024-07-24T13:56:23.595355Z"
    },
    "papermill": {
     "duration": 0.463485,
     "end_time": "2024-07-24T13:56:23.599152",
     "exception": false,
     "start_time": "2024-07-24T13:56:23.135667",
     "status": "completed"
    },
    "tags": []
   },
   "outputs": [
    {
     "data": {
      "text/plain": [
       "<Axes: >"
      ]
     },
     "execution_count": 14,
     "metadata": {},
     "output_type": "execute_result"
    },
    {
     "data": {
      "image/png": "[encoded data removed]",
      "text/plain": [
       "<Figure size 1500x500 with 1 Axes>"
      ]
     },
     "metadata": {},
     "output_type": "display_data"
    }
   ],
   "source": [
    "plt.figure(figsize=(15,5))\n",
    "sns.boxplot(data=df)"
   ]
  },
  {
   "cell_type": "markdown",
   "id": "7336082a",
   "metadata": {
    "papermill": {
     "duration": 0.014946,
     "end_time": "2024-07-24T13:56:23.629422",
     "exception": false,
     "start_time": "2024-07-24T13:56:23.614476",
     "status": "completed"
    },
    "tags": []
   },
   "source": [
    "<div style=\"border-radius: 0px 40px; border: 2px solid #ffea00; padding: 10px; background-color: #6082B6; text-align: center; box-shadow: 0px 2px 4px rgba(0, 0, 0, 0.2);\">\n",
    "    <h1 style=\"color: #ffff00; text-shadow: 1px 1px 2px rgba(0, 0, 0, 0.5); font-weight: bold; margin-bottom: 5px; font-size: 24px;\">Exploratory Data Analysis (EDA) </h1>\n",
    "</div>"
   ]
  },
  {
   "cell_type": "code",
   "execution_count": 15,
   "id": "2aaaec2f",
   "metadata": {
    "execution": {
     "iopub.execute_input": "2024-07-24T13:56:23.663133Z",
     "iopub.status.busy": "2024-07-24T13:56:23.662734Z",
     "iopub.status.idle": "2024-07-24T13:56:23.670299Z",
     "shell.execute_reply": "2024-07-24T13:56:23.669150Z"
    },
    "papermill": {
     "duration": 0.027364,
     "end_time": "2024-07-24T13:56:23.672385",
     "exception": false,
     "start_time": "2024-07-24T13:56:23.645021",
     "status": "completed"
    },
    "tags": []
   },
   "outputs": [
    {
     "data": {
      "text/plain": [
       "Index(['Age', 'Sex', 'ChestPain', 'RestingBloodPressure', 'Cholesterol',\n",
       "       'FastingBloodSugar', 'RestingECG', 'MaxHeartRate', 'ExcerciseAngina',\n",
       "       'OldPeak', 'STSlope', 'nMajorVessels', 'Thalium', 'Status'],\n",
       "      dtype='object')"
      ]
     },
     "execution_count": 15,
     "metadata": {},
     "output_type": "execute_result"
    }
   ],
   "source": [
    "df.columns"
   ]
  },
  {
   "cell_type": "markdown",
   "id": "09e5084a",
   "metadata": {
    "papermill": {
     "duration": 0.015552,
     "end_time": "2024-07-24T13:56:23.703847",
     "exception": false,
     "start_time": "2024-07-24T13:56:23.688295",
     "status": "completed"
    },
    "tags": []
   },
   "source": [
    "##### 1) What is the distribution of age among patients in the dataset?\n",
    "- understand the age demographics of the patients in the dataset."
   ]
  },
  {
   "cell_type": "code",
   "execution_count": 16,
   "id": "ac89258b",
   "metadata": {
    "execution": {
     "iopub.execute_input": "2024-07-24T13:56:23.736458Z",
     "iopub.status.busy": "2024-07-24T13:56:23.736068Z",
     "iopub.status.idle": "2024-07-24T13:56:23.744769Z",
     "shell.execute_reply": "2024-07-24T13:56:23.743664Z"
    },
    "papermill": {
     "duration": 0.027529,
     "end_time": "2024-07-24T13:56:23.747006",
     "exception": false,
     "start_time": "2024-07-24T13:56:23.719477",
     "status": "completed"
    },
    "tags": []
   },
   "outputs": [
    {
     "data": {
      "text/plain": [
       "array([37, 41, 56, 57, 44, 54, 48, 49, 64, 50, 58, 66, 43, 69, 59, 42, 40,\n",
       "       71, 51, 65, 46, 45, 53, 39, 52, 47, 63, 34, 35, 62, 29, 55, 60, 68,\n",
       "       67, 74, 76, 70, 61, 38])"
      ]
     },
     "execution_count": 16,
     "metadata": {},
     "output_type": "execute_result"
    }
   ],
   "source": [
    "df[\"Age\"].unique()"
   ]
  },
  {
   "cell_type": "code",
   "execution_count": 17,
   "id": "fd05b457",
   "metadata": {
    "execution": {
     "iopub.execute_input": "2024-07-24T13:56:23.780135Z",
     "iopub.status.busy": "2024-07-24T13:56:23.779418Z",
     "iopub.status.idle": "2024-07-24T13:56:23.785407Z",
     "shell.execute_reply": "2024-07-24T13:56:23.784121Z"
    },
    "papermill": {
     "duration": 0.025405,
     "end_time": "2024-07-24T13:56:23.788018",
     "exception": false,
     "start_time": "2024-07-24T13:56:23.762613",
     "status": "completed"
    },
    "tags": []
   },
   "outputs": [
    {
     "name": "stdout",
     "output_type": "stream",
     "text": [
      "29\n",
      "76\n"
     ]
    }
   ],
   "source": [
    "print(df['Age'].min())\n",
    "print(df['Age'].max())"
   ]
  },
  {
   "cell_type": "code",
   "execution_count": 18,
   "id": "27aa4dc2",
   "metadata": {
    "execution": {
     "iopub.execute_input": "2024-07-24T13:56:23.821324Z",
     "iopub.status.busy": "2024-07-24T13:56:23.820937Z",
     "iopub.status.idle": "2024-07-24T13:56:24.062775Z",
     "shell.execute_reply": "2024-07-24T13:56:24.061643Z"
    },
    "papermill": {
     "duration": 0.261478,
     "end_time": "2024-07-24T13:56:24.065189",
     "exception": false,
     "start_time": "2024-07-24T13:56:23.803711",
     "status": "completed"
    },
    "tags": []
   },
   "outputs": [
    {
     "data": {
      "image/png": "[encoded data removed]",
      "text/plain": [
       "<Figure size 640x480 with 1 Axes>"
      ]
     },
     "metadata": {},
     "output_type": "display_data"
    }
   ],
   "source": [
    "plt.hist(df['Age'],bins=[29,40,50,60,70,76],color='skyblue', edgecolor='black')\n",
    "plt.title('Distribution of Age Among Patients')\n",
    "plt.xlabel('Age')\n",
    "plt.ylabel('Frequency')\n",
    "plt.show()"
   ]
  },
  {
   "cell_type": "markdown",
   "id": "8e60e690",
   "metadata": {
    "papermill": {
     "duration": 0.015475,
     "end_time": "2024-07-24T13:56:24.096561",
     "exception": false,
     "start_time": "2024-07-24T13:56:24.081086",
     "status": "completed"
    },
    "tags": []
   },
   "source": [
    "##### 2) How many males and females are present in the dataset?"
   ]
  },
  {
   "cell_type": "code",
   "execution_count": 19,
   "id": "a2e2e253",
   "metadata": {
    "execution": {
     "iopub.execute_input": "2024-07-24T13:56:24.129708Z",
     "iopub.status.busy": "2024-07-24T13:56:24.129278Z",
     "iopub.status.idle": "2024-07-24T13:56:24.139451Z",
     "shell.execute_reply": "2024-07-24T13:56:24.138223Z"
    },
    "papermill": {
     "duration": 0.029394,
     "end_time": "2024-07-24T13:56:24.141749",
     "exception": false,
     "start_time": "2024-07-24T13:56:24.112355",
     "status": "completed"
    },
    "tags": []
   },
   "outputs": [
    {
     "data": {
      "text/plain": [
       "Sex\n",
       "1    154\n",
       "0     74\n",
       "Name: count, dtype: int64"
      ]
     },
     "execution_count": 19,
     "metadata": {},
     "output_type": "execute_result"
    }
   ],
   "source": [
    "df['Sex'].value_counts()"
   ]
  },
  {
   "cell_type": "code",
   "execution_count": 20,
   "id": "4e6adaee",
   "metadata": {
    "execution": {
     "iopub.execute_input": "2024-07-24T13:56:24.175531Z",
     "iopub.status.busy": "2024-07-24T13:56:24.175170Z",
     "iopub.status.idle": "2024-07-24T13:56:24.395973Z",
     "shell.execute_reply": "2024-07-24T13:56:24.394760Z"
    },
    "papermill": {
     "duration": 0.240754,
     "end_time": "2024-07-24T13:56:24.398544",
     "exception": false,
     "start_time": "2024-07-24T13:56:24.157790",
     "status": "completed"
    },
    "tags": []
   },
   "outputs": [
    {
     "data": {
      "text/plain": [
       "<Axes: >"
      ]
     },
     "execution_count": 20,
     "metadata": {},
     "output_type": "execute_result"
    },
    {
     "data": {
      "image/png": "[encoded data removed]",
      "text/plain": [
       "<Figure size 640x480 with 1 Axes>"
      ]
     },
     "metadata": {},
     "output_type": "display_data"
    }
   ],
   "source": [
    "sns.barplot(df['Sex'].value_counts())"
   ]
  },
  {
   "cell_type": "markdown",
   "id": "9677ed3d",
   "metadata": {
    "papermill": {
     "duration": 0.016225,
     "end_time": "2024-07-24T13:56:24.431355",
     "exception": false,
     "start_time": "2024-07-24T13:56:24.415130",
     "status": "completed"
    },
    "tags": []
   },
   "source": [
    "##### 3) What are the distribution and range of cholesterol levels among patients?"
   ]
  },
  {
   "cell_type": "code",
   "execution_count": 21,
   "id": "39182f68",
   "metadata": {
    "execution": {
     "iopub.execute_input": "2024-07-24T13:56:24.466259Z",
     "iopub.status.busy": "2024-07-24T13:56:24.465874Z",
     "iopub.status.idle": "2024-07-24T13:56:24.753174Z",
     "shell.execute_reply": "2024-07-24T13:56:24.752004Z"
    },
    "papermill": {
     "duration": 0.308908,
     "end_time": "2024-07-24T13:56:24.756596",
     "exception": false,
     "start_time": "2024-07-24T13:56:24.447688",
     "status": "completed"
    },
    "tags": []
   },
   "outputs": [
    {
     "data": {
      "image/png": "[encoded data removed]",
      "text/plain": [
       "<Figure size 800x600 with 1 Axes>"
      ]
     },
     "metadata": {},
     "output_type": "display_data"
    },
    {
     "name": "stdout",
     "output_type": "stream",
     "text": [
      "Minimum Cholesterol Level: 131\n",
      "Maximum Cholesterol Level: 360\n",
      "Mean Cholesterol Level: 242.37280701754386\n",
      "Standard Deviation of Cholesterol Level: 44.32982664540809\n"
     ]
    }
   ],
   "source": [
    "cholesterol_data = df['Cholesterol']\n",
    "\n",
    "# Summary statistics\n",
    "cholesterol_min = cholesterol_data.min()\n",
    "cholesterol_max = cholesterol_data.max()\n",
    "cholesterol_mean = cholesterol_data.mean()\n",
    "cholesterol_std = cholesterol_data.std()\n",
    "\n",
    "# Plot the distribution of cholesterol levels\n",
    "plt.figure(figsize=(8, 6))\n",
    "plt.hist(cholesterol_data, bins=20, color='salmon', edgecolor='black')\n",
    "plt.title('Distribution of Cholesterol Levels Among Patients')\n",
    "plt.xlabel('Cholesterol Level (mg/dL)')\n",
    "plt.ylabel('Frequency')\n",
    "plt.grid(True)\n",
    "plt.show()\n",
    "\n",
    "# Print summary statistics\n",
    "print(\"Minimum Cholesterol Level:\", cholesterol_min)\n",
    "print(\"Maximum Cholesterol Level:\", cholesterol_max)\n",
    "print(\"Mean Cholesterol Level:\", cholesterol_mean)\n",
    "print(\"Standard Deviation of Cholesterol Level:\", cholesterol_std)\n"
   ]
  },
  {
   "cell_type": "markdown",
   "id": "29a4acd4",
   "metadata": {
    "papermill": {
     "duration": 0.016987,
     "end_time": "2024-07-24T13:56:24.790345",
     "exception": false,
     "start_time": "2024-07-24T13:56:24.773358",
     "status": "completed"
    },
    "tags": []
   },
   "source": [
    "##### 4) What is the correlation between age and blood pressure (resting blood pressure)?"
   ]
  },
  {
   "cell_type": "code",
   "execution_count": 22,
   "id": "df5a669f",
   "metadata": {
    "execution": {
     "iopub.execute_input": "2024-07-24T13:56:24.826344Z",
     "iopub.status.busy": "2024-07-24T13:56:24.825393Z",
     "iopub.status.idle": "2024-07-24T13:56:24.838696Z",
     "shell.execute_reply": "2024-07-24T13:56:24.837532Z"
    },
    "papermill": {
     "duration": 0.033885,
     "end_time": "2024-07-24T13:56:24.841036",
     "exception": false,
     "start_time": "2024-07-24T13:56:24.807151",
     "status": "completed"
    },
    "tags": []
   },
   "outputs": [
    {
     "data": {
      "text/html": [
       "<div>\n",
       "<style scoped>\n",
       "    .dataframe tbody tr th:only-of-type {\n",
       "        vertical-align: middle;\n",
       "    }\n",
       "\n",
       "    .dataframe tbody tr th {\n",
       "        vertical-align: top;\n",
       "    }\n",
       "\n",
       "    .dataframe thead th {\n",
       "        text-align: right;\n",
       "    }\n",
       "</style>\n",
       "<table border=\"1\" class=\"dataframe\">\n",
       "  <thead>\n",
       "    <tr style=\"text-align: right;\">\n",
       "      <th></th>\n",
       "      <th>Age</th>\n",
       "      <th>RestingBloodPressure</th>\n",
       "    </tr>\n",
       "  </thead>\n",
       "  <tbody>\n",
       "    <tr>\n",
       "      <th>Age</th>\n",
       "      <td>1.000000</td>\n",
       "      <td>0.266698</td>\n",
       "    </tr>\n",
       "    <tr>\n",
       "      <th>RestingBloodPressure</th>\n",
       "      <td>0.266698</td>\n",
       "      <td>1.000000</td>\n",
       "    </tr>\n",
       "  </tbody>\n",
       "</table>\n",
       "</div>"
      ],
      "text/plain": [
       "                           Age  RestingBloodPressure\n",
       "Age                   1.000000              0.266698\n",
       "RestingBloodPressure  0.266698              1.000000"
      ]
     },
     "execution_count": 22,
     "metadata": {},
     "output_type": "execute_result"
    }
   ],
   "source": [
    "correlation=df[['Age','RestingBloodPressure']].corr()\n",
    "correlation"
   ]
  },
  {
   "cell_type": "code",
   "execution_count": 23,
   "id": "8f5fa012",
   "metadata": {
    "execution": {
     "iopub.execute_input": "2024-07-24T13:56:24.876920Z",
     "iopub.status.busy": "2024-07-24T13:56:24.876518Z",
     "iopub.status.idle": "2024-07-24T13:56:25.179984Z",
     "shell.execute_reply": "2024-07-24T13:56:25.178398Z"
    },
    "papermill": {
     "duration": 0.325222,
     "end_time": "2024-07-24T13:56:25.183268",
     "exception": false,
     "start_time": "2024-07-24T13:56:24.858046",
     "status": "completed"
    },
    "tags": []
   },
   "outputs": [
    {
     "data": {
      "text/plain": [
       "<Axes: >"
      ]
     },
     "execution_count": 23,
     "metadata": {},
     "output_type": "execute_result"
    },
    {
     "data": {
      "image/png": "[encoded data removed]",
      "text/plain": [
       "<Figure size 640x480 with 2 Axes>"
      ]
     },
     "metadata": {},
     "output_type": "display_data"
    }
   ],
   "source": [
    "sns.heatmap(correlation,annot=True)"
   ]
  },
  {
   "cell_type": "markdown",
   "id": "60a355d8",
   "metadata": {
    "papermill": {
     "duration": 0.018147,
     "end_time": "2024-07-24T13:56:25.227378",
     "exception": false,
     "start_time": "2024-07-24T13:56:25.209231",
     "status": "completed"
    },
    "tags": []
   },
   "source": [
    "##### 5) How does chest pain type (cp) vary across different age groups?"
   ]
  },
  {
   "cell_type": "code",
   "execution_count": 24,
   "id": "41b966e1",
   "metadata": {
    "execution": {
     "iopub.execute_input": "2024-07-24T13:56:25.269872Z",
     "iopub.status.busy": "2024-07-24T13:56:25.269465Z",
     "iopub.status.idle": "2024-07-24T13:56:25.278510Z",
     "shell.execute_reply": "2024-07-24T13:56:25.277350Z"
    },
    "papermill": {
     "duration": 0.037698,
     "end_time": "2024-07-24T13:56:25.282996",
     "exception": false,
     "start_time": "2024-07-24T13:56:25.245298",
     "status": "completed"
    },
    "tags": []
   },
   "outputs": [
    {
     "data": {
      "text/plain": [
       "Index(['Age', 'Sex', 'ChestPain', 'RestingBloodPressure', 'Cholesterol',\n",
       "       'FastingBloodSugar', 'RestingECG', 'MaxHeartRate', 'ExcerciseAngina',\n",
       "       'OldPeak', 'STSlope', 'nMajorVessels', 'Thalium', 'Status'],\n",
       "      dtype='object')"
      ]
     },
     "execution_count": 24,
     "metadata": {},
     "output_type": "execute_result"
    }
   ],
   "source": [
    "df.columns"
   ]
  },
  {
   "cell_type": "code",
   "execution_count": 25,
   "id": "7a22a9e9",
   "metadata": {
    "execution": {
     "iopub.execute_input": "2024-07-24T13:56:25.330612Z",
     "iopub.status.busy": "2024-07-24T13:56:25.330025Z",
     "iopub.status.idle": "2024-07-24T13:56:26.211883Z",
     "shell.execute_reply": "2024-07-24T13:56:26.210656Z"
    },
    "papermill": {
     "duration": 0.907379,
     "end_time": "2024-07-24T13:56:26.214563",
     "exception": false,
     "start_time": "2024-07-24T13:56:25.307184",
     "status": "completed"
    },
    "tags": []
   },
   "outputs": [
    {
     "data": {
      "image/png": "[encoded data removed]",
      "text/plain": [
       "<Figure size 1000x600 with 1 Axes>"
      ]
     },
     "metadata": {},
     "output_type": "display_data"
    }
   ],
   "source": [
    "\n",
    "# Define age groups\n",
    "age_bins = [20, 30, 40, 50, 60, 70, 80]\n",
    "age_labels = ['20-29', '30-39', '40-49', '50-59', '60-69', '70-79']\n",
    "\n",
    "# Add Age Group column\n",
    "df['Age Group'] = pd.cut(df['Age'], bins=age_bins, labels=age_labels, right=False)\n",
    "\n",
    "# Group by Age Group and Chest Pain Type (cp), and count occurrences\n",
    "cp_age_group = df.groupby(['Age', 'ChestPain']).size().unstack(fill_value=0)\n",
    "\n",
    "# Plot\n",
    "cp_age_group.plot(kind='bar', stacked=True, figsize=(10, 6))\n",
    "plt.title('Chest Pain Type Distribution Across Age Groups')\n",
    "plt.xlabel('Age Group')\n",
    "plt.ylabel('Frequency')\n",
    "plt.xticks(rotation=45)\n",
    "plt.legend(title='Chest Pain Type', loc='upper right')\n",
    "plt.tight_layout()\n",
    "plt.show()\n"
   ]
  },
  {
   "cell_type": "markdown",
   "id": "9ff140f3",
   "metadata": {
    "papermill": {
     "duration": 0.018945,
     "end_time": "2024-07-24T13:56:26.252287",
     "exception": false,
     "start_time": "2024-07-24T13:56:26.233342",
     "status": "completed"
    },
    "tags": []
   },
   "source": [
    "<div style=\"border-radius: 0px 40px; border: 2px solid #ffea00; padding: 10px; background-color: #6082B6; text-align: center; box-shadow: 0px 2px 4px rgba(0, 0, 0, 0.2);\">\n",
    "    <h1 style=\"color: #ffff00; text-shadow: 1px 1px 2px rgba(0, 0, 0, 0.5); font-weight: bold; margin-bottom: 5px; font-size: 24px;\">Data Encoding</h1>\n",
    "</div>\n",
    "\n",
    "\n",
    "- LableEncoding"
   ]
  },
  {
   "cell_type": "code",
   "execution_count": 26,
   "id": "70b34c5e",
   "metadata": {
    "execution": {
     "iopub.execute_input": "2024-07-24T13:56:26.290796Z",
     "iopub.status.busy": "2024-07-24T13:56:26.290359Z",
     "iopub.status.idle": "2024-07-24T13:56:26.314522Z",
     "shell.execute_reply": "2024-07-24T13:56:26.313325Z"
    },
    "papermill": {
     "duration": 0.046286,
     "end_time": "2024-07-24T13:56:26.316793",
     "exception": false,
     "start_time": "2024-07-24T13:56:26.270507",
     "status": "completed"
    },
    "tags": []
   },
   "outputs": [
    {
     "data": {
      "text/html": [
       "<div>\n",
       "<style scoped>\n",
       "    .dataframe tbody tr th:only-of-type {\n",
       "        vertical-align: middle;\n",
       "    }\n",
       "\n",
       "    .dataframe tbody tr th {\n",
       "        vertical-align: top;\n",
       "    }\n",
       "\n",
       "    .dataframe thead th {\n",
       "        text-align: right;\n",
       "    }\n",
       "</style>\n",
       "<table border=\"1\" class=\"dataframe\">\n",
       "  <thead>\n",
       "    <tr style=\"text-align: right;\">\n",
       "      <th></th>\n",
       "      <th>Age</th>\n",
       "      <th>Sex</th>\n",
       "      <th>ChestPain</th>\n",
       "      <th>RestingBloodPressure</th>\n",
       "      <th>Cholesterol</th>\n",
       "      <th>FastingBloodSugar</th>\n",
       "      <th>RestingECG</th>\n",
       "      <th>MaxHeartRate</th>\n",
       "      <th>ExcerciseAngina</th>\n",
       "      <th>OldPeak</th>\n",
       "      <th>STSlope</th>\n",
       "      <th>nMajorVessels</th>\n",
       "      <th>Thalium</th>\n",
       "      <th>Status</th>\n",
       "      <th>Age Group</th>\n",
       "    </tr>\n",
       "  </thead>\n",
       "  <tbody>\n",
       "    <tr>\n",
       "      <th>1</th>\n",
       "      <td>3</td>\n",
       "      <td>1</td>\n",
       "      <td>2</td>\n",
       "      <td>19</td>\n",
       "      <td>72</td>\n",
       "      <td>0</td>\n",
       "      <td>1</td>\n",
       "      <td>76</td>\n",
       "      <td>0</td>\n",
       "      <td>31</td>\n",
       "      <td>0</td>\n",
       "      <td>0</td>\n",
       "      <td>1</td>\n",
       "      <td>1</td>\n",
       "      <td>1</td>\n",
       "    </tr>\n",
       "    <tr>\n",
       "      <th>2</th>\n",
       "      <td>7</td>\n",
       "      <td>0</td>\n",
       "      <td>1</td>\n",
       "      <td>19</td>\n",
       "      <td>31</td>\n",
       "      <td>0</td>\n",
       "      <td>0</td>\n",
       "      <td>64</td>\n",
       "      <td>0</td>\n",
       "      <td>14</td>\n",
       "      <td>2</td>\n",
       "      <td>0</td>\n",
       "      <td>1</td>\n",
       "      <td>1</td>\n",
       "      <td>2</td>\n",
       "    </tr>\n",
       "    <tr>\n",
       "      <th>3</th>\n",
       "      <td>22</td>\n",
       "      <td>1</td>\n",
       "      <td>1</td>\n",
       "      <td>11</td>\n",
       "      <td>60</td>\n",
       "      <td>0</td>\n",
       "      <td>1</td>\n",
       "      <td>69</td>\n",
       "      <td>0</td>\n",
       "      <td>8</td>\n",
       "      <td>2</td>\n",
       "      <td>0</td>\n",
       "      <td>1</td>\n",
       "      <td>1</td>\n",
       "      <td>3</td>\n",
       "    </tr>\n",
       "    <tr>\n",
       "      <th>4</th>\n",
       "      <td>23</td>\n",
       "      <td>0</td>\n",
       "      <td>0</td>\n",
       "      <td>11</td>\n",
       "      <td>130</td>\n",
       "      <td>0</td>\n",
       "      <td>1</td>\n",
       "      <td>55</td>\n",
       "      <td>1</td>\n",
       "      <td>6</td>\n",
       "      <td>2</td>\n",
       "      <td>0</td>\n",
       "      <td>1</td>\n",
       "      <td>1</td>\n",
       "      <td>3</td>\n",
       "    </tr>\n",
       "    <tr>\n",
       "      <th>5</th>\n",
       "      <td>23</td>\n",
       "      <td>1</td>\n",
       "      <td>0</td>\n",
       "      <td>25</td>\n",
       "      <td>21</td>\n",
       "      <td>0</td>\n",
       "      <td>1</td>\n",
       "      <td>40</td>\n",
       "      <td>0</td>\n",
       "      <td>4</td>\n",
       "      <td>1</td>\n",
       "      <td>0</td>\n",
       "      <td>0</td>\n",
       "      <td>1</td>\n",
       "      <td>3</td>\n",
       "    </tr>\n",
       "  </tbody>\n",
       "</table>\n",
       "</div>"
      ],
      "text/plain": [
       "   Age  Sex  ChestPain  RestingBloodPressure  Cholesterol  FastingBloodSugar  \\\n",
       "1    3    1          2                    19           72                  0   \n",
       "2    7    0          1                    19           31                  0   \n",
       "3   22    1          1                    11           60                  0   \n",
       "4   23    0          0                    11          130                  0   \n",
       "5   23    1          0                    25           21                  0   \n",
       "\n",
       "   RestingECG  MaxHeartRate  ExcerciseAngina  OldPeak  STSlope  nMajorVessels  \\\n",
       "1           1            76                0       31        0              0   \n",
       "2           0            64                0       14        2              0   \n",
       "3           1            69                0        8        2              0   \n",
       "4           1            55                1        6        2              0   \n",
       "5           1            40                0        4        1              0   \n",
       "\n",
       "   Thalium  Status  Age Group  \n",
       "1        1       1          1  \n",
       "2        1       1          2  \n",
       "3        1       1          3  \n",
       "4        1       1          3  \n",
       "5        0       1          3  "
      ]
     },
     "execution_count": 26,
     "metadata": {},
     "output_type": "execute_result"
    }
   ],
   "source": [
    "for col in df.columns:\n",
    "    df[col]=LabelEncoder().fit_transform(df[col])\n",
    "df.head()"
   ]
  },
  {
   "cell_type": "markdown",
   "id": "0bc1644a",
   "metadata": {
    "papermill": {
     "duration": 0.018429,
     "end_time": "2024-07-24T13:56:26.354185",
     "exception": false,
     "start_time": "2024-07-24T13:56:26.335756",
     "status": "completed"
    },
    "tags": []
   },
   "source": [
    "\n",
    "<div style=\"border-radius: 0px 40px; border: 2px solid #ffea00; padding: 10px; background-color: #6082B6; text-align: center; box-shadow: 0px 2px 4px rgba(0, 0, 0, 0.2);\">\n",
    "    <h1 style=\"color: #ffff00; text-shadow: 1px 1px 2px rgba(0, 0, 0, 0.5); font-weight: bold; margin-bottom: 5px; font-size: 24px;\">Data Splitting </h1>\n",
    "</div>"
   ]
  },
  {
   "cell_type": "code",
   "execution_count": 27,
   "id": "8f2b4525",
   "metadata": {
    "execution": {
     "iopub.execute_input": "2024-07-24T13:56:26.394766Z",
     "iopub.status.busy": "2024-07-24T13:56:26.394339Z",
     "iopub.status.idle": "2024-07-24T13:56:26.401426Z",
     "shell.execute_reply": "2024-07-24T13:56:26.400134Z"
    },
    "papermill": {
     "duration": 0.029904,
     "end_time": "2024-07-24T13:56:26.403824",
     "exception": false,
     "start_time": "2024-07-24T13:56:26.373920",
     "status": "completed"
    },
    "tags": []
   },
   "outputs": [],
   "source": [
    "X=df.drop(\"Status\",axis=1)\n",
    "y=df['Status']"
   ]
  },
  {
   "cell_type": "code",
   "execution_count": 28,
   "id": "e2a9343e",
   "metadata": {
    "execution": {
     "iopub.execute_input": "2024-07-24T13:56:26.443066Z",
     "iopub.status.busy": "2024-07-24T13:56:26.442660Z",
     "iopub.status.idle": "2024-07-24T13:56:26.452718Z",
     "shell.execute_reply": "2024-07-24T13:56:26.451591Z"
    },
    "papermill": {
     "duration": 0.032595,
     "end_time": "2024-07-24T13:56:26.455086",
     "exception": false,
     "start_time": "2024-07-24T13:56:26.422491",
     "status": "completed"
    },
    "tags": []
   },
   "outputs": [],
   "source": [
    "X_train,X_test,y_train,y_test=train_test_split(X,y,test_size=0.2,random_state=42)"
   ]
  },
  {
   "cell_type": "code",
   "execution_count": 29,
   "id": "085584a4",
   "metadata": {
    "execution": {
     "iopub.execute_input": "2024-07-24T13:56:26.493786Z",
     "iopub.status.busy": "2024-07-24T13:56:26.493356Z",
     "iopub.status.idle": "2024-07-24T13:56:26.500488Z",
     "shell.execute_reply": "2024-07-24T13:56:26.499374Z"
    },
    "papermill": {
     "duration": 0.029277,
     "end_time": "2024-07-24T13:56:26.502816",
     "exception": false,
     "start_time": "2024-07-24T13:56:26.473539",
     "status": "completed"
    },
    "tags": []
   },
   "outputs": [
    {
     "data": {
      "text/plain": [
       "(182,)"
      ]
     },
     "execution_count": 29,
     "metadata": {},
     "output_type": "execute_result"
    }
   ],
   "source": [
    "y_train.shape"
   ]
  },
  {
   "cell_type": "code",
   "execution_count": 30,
   "id": "6a9b88c8",
   "metadata": {
    "execution": {
     "iopub.execute_input": "2024-07-24T13:56:26.542254Z",
     "iopub.status.busy": "2024-07-24T13:56:26.541850Z",
     "iopub.status.idle": "2024-07-24T13:56:26.548790Z",
     "shell.execute_reply": "2024-07-24T13:56:26.547636Z"
    },
    "papermill": {
     "duration": 0.029782,
     "end_time": "2024-07-24T13:56:26.551140",
     "exception": false,
     "start_time": "2024-07-24T13:56:26.521358",
     "status": "completed"
    },
    "tags": []
   },
   "outputs": [
    {
     "data": {
      "text/plain": [
       "(46,)"
      ]
     },
     "execution_count": 30,
     "metadata": {},
     "output_type": "execute_result"
    }
   ],
   "source": [
    "y_test.shape"
   ]
  },
  {
   "cell_type": "markdown",
   "id": "e1c7bdc9",
   "metadata": {
    "papermill": {
     "duration": 0.018387,
     "end_time": "2024-07-24T13:56:26.588370",
     "exception": false,
     "start_time": "2024-07-24T13:56:26.569983",
     "status": "completed"
    },
    "tags": []
   },
   "source": [
    "\n",
    "<div style=\"border-radius: 0px 40px; border: 2px solid #ffea00; padding: 10px; background-color: #6082B6; text-align: center; box-shadow: 0px 2px 4px rgba(0, 0, 0, 0.2);\">\n",
    "    <h1 style=\"color: #ffff00; text-shadow: 1px 1px 2px rgba(0, 0, 0, 0.5); font-weight: bold; margin-bottom: 5px; font-size: 24px;\">Feature Scaling </h1>\n",
    "</div>\n",
    "\n",
    "- StandardScaler"
   ]
  },
  {
   "cell_type": "code",
   "execution_count": 31,
   "id": "b75746f9",
   "metadata": {
    "execution": {
     "iopub.execute_input": "2024-07-24T13:56:26.627651Z",
     "iopub.status.busy": "2024-07-24T13:56:26.627226Z",
     "iopub.status.idle": "2024-07-24T13:56:26.639797Z",
     "shell.execute_reply": "2024-07-24T13:56:26.638795Z"
    },
    "papermill": {
     "duration": 0.035228,
     "end_time": "2024-07-24T13:56:26.642295",
     "exception": false,
     "start_time": "2024-07-24T13:56:26.607067",
     "status": "completed"
    },
    "tags": []
   },
   "outputs": [],
   "source": [
    "scaler=StandardScaler()\n",
    "X_train=scaler.fit_transform(X_train)\n",
    "X_test=scaler.transform(X_test)"
   ]
  },
  {
   "cell_type": "code",
   "execution_count": 32,
   "id": "539814eb",
   "metadata": {
    "execution": {
     "iopub.execute_input": "2024-07-24T13:56:26.683185Z",
     "iopub.status.busy": "2024-07-24T13:56:26.682769Z",
     "iopub.status.idle": "2024-07-24T13:56:26.691349Z",
     "shell.execute_reply": "2024-07-24T13:56:26.690142Z"
    },
    "papermill": {
     "duration": 0.03145,
     "end_time": "2024-07-24T13:56:26.693621",
     "exception": false,
     "start_time": "2024-07-24T13:56:26.662171",
     "status": "completed"
    },
    "tags": []
   },
   "outputs": [
    {
     "data": {
      "text/plain": [
       "array([[-0.38888924,  0.7100227 ,  1.01151316, ...,  0.79624813,\n",
       "         1.1794217 ,  0.08796633],\n",
       "       [-0.94795592, -1.40840568,  0.03228233, ..., -0.6824984 ,\n",
       "        -0.60936788, -0.97935845],\n",
       "       [ 0.72924412, -1.40840568, -0.94694849, ...,  2.27499467,\n",
       "         1.1794217 ,  1.1552911 ],\n",
       "       ...,\n",
       "       [ 1.17649747, -1.40840568, -0.94694849, ...,  2.27499467,\n",
       "        -0.60936788,  1.1552911 ],\n",
       "       [-0.72432925,  0.7100227 ,  1.01151316, ..., -0.6824984 ,\n",
       "        -0.60936788, -0.97935845],\n",
       "       [ 0.0583641 , -1.40840568,  1.01151316, ...,  0.79624813,\n",
       "        -0.60936788,  0.08796633]])"
      ]
     },
     "execution_count": 32,
     "metadata": {},
     "output_type": "execute_result"
    }
   ],
   "source": [
    "X_train"
   ]
  },
  {
   "cell_type": "code",
   "execution_count": 33,
   "id": "e7ebae53",
   "metadata": {
    "execution": {
     "iopub.execute_input": "2024-07-24T13:56:26.735892Z",
     "iopub.status.busy": "2024-07-24T13:56:26.734860Z",
     "iopub.status.idle": "2024-07-24T13:56:26.748282Z",
     "shell.execute_reply": "2024-07-24T13:56:26.747085Z"
    },
    "papermill": {
     "duration": 0.037111,
     "end_time": "2024-07-24T13:56:26.750890",
     "exception": false,
     "start_time": "2024-07-24T13:56:26.713779",
     "status": "completed"
    },
    "tags": []
   },
   "outputs": [
    {
     "data": {
      "text/plain": [
       "array([[ 0.61743079,  0.7100227 ,  1.99074398,  0.40642648, -0.9516225 ,\n",
       "         0.        ,  0.90732647,  0.54387622, -0.68391661, -0.16106452,\n",
       "         1.01217049,  2.27499467, -0.60936788,  0.08796633],\n",
       "       [-1.39520927,  0.7100227 ,  1.01151316, -1.01817361,  0.22579536,\n",
       "         0.        ,  0.90732647,  1.34904529, -0.68391661, -0.99860002,\n",
       "         1.01217049, -0.6824984 , -0.60936788, -0.97935845],\n",
       "       [-0.61251591, -1.40840568,  1.01151316,  0.18725724,  0.88629806,\n",
       "         0.        ,  0.90732647, -0.61355432, -0.68391661, -0.78921614,\n",
       "         1.01217049, -0.6824984 , -0.60936788, -0.97935845],\n",
       "       [ 0.0583641 ,  0.7100227 , -0.94694849, -1.12775823, -0.89418748,\n",
       "         0.        , -1.01282954, -1.82130792,  1.46216655, -0.99860002,\n",
       "        -0.67787565,  0.79624813, -0.60936788,  0.08796633],\n",
       "       [-1.17158259,  0.7100227 , -0.94694849,  1.50227271,  0.13964283,\n",
       "         0.        ,  0.90732647,  0.99678383, -0.68391661,  0.57177904,\n",
       "         1.01217049, -0.6824984 , -0.60936788, -0.97935845],\n",
       "       [-0.16526257,  0.7100227 , -0.94694849, -1.01817361, -0.2911198 ,\n",
       "         0.        ,  0.90732647,  0.44323009, -0.68391661, -0.99860002,\n",
       "         1.01217049,  0.79624813, -0.60936788,  0.08796633],\n",
       "       [-1.05976926,  0.7100227 ,  0.03228233,  0.18725724, -0.57829489,\n",
       "         0.        , -1.01282954,  1.70130676, -0.68391661, -0.99860002,\n",
       "         1.01217049, -0.6824984 , -0.60936788, -0.97935845],\n",
       "       [ 0.50561745,  0.7100227 , -0.94694849, -0.03191201,  0.45553543,\n",
       "         0.        , -1.01282954, -0.91549272,  1.46216655,  1.93277423,\n",
       "        -0.67787565,  2.27499467,  1.1794217 ,  0.08796633],\n",
       "       [ 0.72924412,  0.7100227 , -0.94694849,  1.17351884,  1.0298856 ,\n",
       "         0.        , -1.01282954, -0.46258511,  1.46216655,  1.72339035,\n",
       "        -0.67787565,  2.27499467,  1.1794217 ,  1.1552911 ],\n",
       "       [-0.72432925,  0.7100227 ,  1.01151316,  0.18725724,  0.28323037,\n",
       "         0.        ,  0.90732647,  1.34904529, -0.68391661, -0.99860002,\n",
       "         1.01217049, -0.6824984 , -0.60936788, -0.97935845],\n",
       "       [-1.5070226 ,  0.7100227 , -0.94694849,  1.61185733, -0.46342485,\n",
       "         0.        ,  0.90732647,  1.44969143, -0.68391661, -0.99860002,\n",
       "         1.01217049, -0.6824984 ,  1.1794217 , -0.97935845],\n",
       "       [-1.28339593,  0.7100227 , -0.94694849,  0.84476497, -0.40598983,\n",
       "         0.        ,  0.90732647,  1.29872223, -0.68391661, -0.99860002,\n",
       "         1.01217049, -0.6824984 , -0.60936788, -0.97935845],\n",
       "       [-1.61883594, -1.40840568,  1.01151316, -1.89485058, -1.06649254,\n",
       "         0.        ,  0.90732647,  1.34904529, -0.68391661, -0.99860002,\n",
       "         1.01217049, -0.6824984 , -0.60936788, -2.04668322],\n",
       "       [ 0.61743079,  0.7100227 ,  1.99074398,  2.15978044,  1.11603813,\n",
       "         0.        , -1.01282954,  0.39290702, -0.68391661, -0.78921614,\n",
       "        -0.67787565, -0.6824984 ,  1.1794217 ,  0.08796633],\n",
       "       [-1.05976926,  0.7100227 , -0.94694849, -0.68941974, -1.6121252 ,\n",
       "         0.        ,  0.90732647, -0.36193898,  1.46216655,  1.72339035,\n",
       "        -2.36792178, -0.6824984 , -2.39815746, -0.97935845],\n",
       "       [ 0.50561745,  0.7100227 ,  1.01151316,  0.29684186, -0.43470734,\n",
       "         0.        , -1.01282954,  1.09742996, -0.68391661,  2.03746616,\n",
       "         1.01217049,  2.27499467,  1.1794217 ,  0.08796633],\n",
       "       [-0.38888924,  0.7100227 , -0.94694849,  1.50227271,  0.0247728 ,\n",
       "         0.        , -1.01282954, -1.01613885, -0.68391661,  1.61869841,\n",
       "        -0.67787565, -0.6824984 ,  1.1794217 ,  0.08796633],\n",
       "       [ 1.2883108 , -1.40840568,  1.01151316,  1.83102657,  0.74271051,\n",
       "         0.        ,  0.90732647, -0.16064671, -0.68391661, -0.16106452,\n",
       "         1.01217049, -0.6824984 , -0.60936788,  1.1552911 ],\n",
       "       [ 1.06468413, -1.40840568, -0.94694849, -0.36066587, -1.12392755,\n",
       "         0.        ,  0.90732647, -0.71420045,  1.46216655, -0.99860002,\n",
       "        -0.67787565, -0.6824984 , -0.60936788,  1.1552911 ],\n",
       "       [ 0.72924412,  0.7100227 , -0.94694849,  0.84476497,  1.20219065,\n",
       "         0.        , -1.01282954,  0.94646076, -0.68391661,  0.25770323,\n",
       "        -0.67787565,  2.27499467,  1.1794217 ,  1.1552911 ],\n",
       "       [ 0.39380411,  0.7100227 , -0.94694849, -1.12775823, -1.00905752,\n",
       "         0.        ,  0.90732647, -1.11678498,  1.46216655,  0.57177904,\n",
       "        -0.67787565, -0.6824984 , -2.39815746,  0.08796633],\n",
       "       [ 0.50561745,  0.7100227 , -0.94694849,  1.50227271,  0.77142802,\n",
       "         0.        , -1.01282954, -1.72066179,  1.46216655, -0.16106452,\n",
       "         1.01217049, -0.6824984 ,  1.1794217 ,  0.08796633],\n",
       "       [ 0.39380411,  0.7100227 ,  0.03228233,  1.72144195, -0.23368478,\n",
       "         0.        , -1.01282954,  0.64452236, -0.68391661, -0.99860002,\n",
       "         1.01217049,  0.79624813, -0.60936788,  0.08796633],\n",
       "       [ 0.17017744,  0.7100227 , -0.94694849,  2.05019582,  1.14475564,\n",
       "         0.        , -1.01282954, -0.31161591,  1.46216655, -0.16106452,\n",
       "        -0.67787565,  0.79624813,  1.1794217 ,  0.08796633],\n",
       "       [ 0.50561745, -1.40840568, -0.94694849,  0.18725724, -1.12392755,\n",
       "         0.        ,  0.90732647, -0.86516965, -0.68391661, -0.37044839,\n",
       "        -0.67787565, -0.6824984 , -0.60936788,  0.08796633],\n",
       "       [-1.05976926,  0.7100227 ,  1.01151316,  0.18725724, -0.20496727,\n",
       "         0.        ,  0.90732647,  1.34904529,  1.46216655, -0.57983227,\n",
       "         1.01217049, -0.6824984 , -0.60936788, -0.97935845],\n",
       "       [-1.05976926,  0.7100227 , -0.94694849, -1.01817361,  1.17347314,\n",
       "         0.        , -1.01282954,  0.09096862, -0.68391661, -0.99860002,\n",
       "         1.01217049,  0.79624813, -0.60936788, -0.97935845],\n",
       "       [ 2.07100416, -1.40840568,  0.03228233, -0.68941974,  0.74271051,\n",
       "         0.        , -1.01282954, -1.31807725,  1.46216655, -0.78921614,\n",
       "         1.01217049,  0.79624813, -0.60936788,  2.22261587],\n",
       "       [-1.28339593,  0.7100227 ,  0.03228233, -0.68941974,  1.25962567,\n",
       "         0.        ,  0.90732647,  0.54387622, -0.68391661, -0.99860002,\n",
       "         1.01217049, -0.6824984 , -0.60936788, -0.97935845],\n",
       "       [ 1.17649747, -1.40840568,  1.01151316,  0.84476497,  1.57551827,\n",
       "         0.        ,  0.90732647, -0.76452352, -0.68391661, -0.78921614,\n",
       "         1.01217049, -0.6824984 ,  1.1794217 ,  1.1552911 ],\n",
       "       [ 0.95287079, -1.40840568, -0.94694849,  1.50227271,  0.0534903 ,\n",
       "         0.        ,  0.90732647,  0.14129169,  1.46216655,  0.4670871 ,\n",
       "        -0.67787565, -0.6824984 , -0.60936788,  1.1552911 ],\n",
       "       [-2.17790262,  0.7100227 ,  0.03228233,  0.18725724, -0.9516225 ,\n",
       "         0.        , -1.01282954,  1.85227596, -0.68391661, -0.99860002,\n",
       "         1.01217049, -0.6824984 , -0.60936788, -3.11400799],\n",
       "       [-1.05976926,  0.7100227 ,  1.01151316, -0.68941974, -0.40598983,\n",
       "         0.        ,  0.90732647,  0.89613769, -0.68391661, -0.99860002,\n",
       "         1.01217049, -0.6824984 , -0.60936788, -0.97935845],\n",
       "       [-0.16526257,  0.7100227 ,  0.03228233,  0.40642648, -1.00905752,\n",
       "         0.        ,  0.90732647,  0.34258396, -0.68391661, -0.16106452,\n",
       "         1.01217049,  0.79624813, -0.60936788,  0.08796633],\n",
       "       [ 1.73556415, -1.40840568,  1.99074398,  0.84476497, -0.09009724,\n",
       "         0.        ,  0.90732647, -0.00967751, -0.68391661,  0.78116292,\n",
       "         1.01217049,  2.27499467, -0.60936788,  1.1552911 ],\n",
       "       [-1.95427595,  0.7100227 ,  0.03228233, -0.57983512, -1.23879759,\n",
       "         0.        ,  0.90732647,  1.14775303, -0.68391661, -0.99860002,\n",
       "         1.01217049, -0.6824984 , -0.60936788, -2.04668322],\n",
       "       [ 1.2883108 ,  0.7100227 , -0.94694849, -1.12775823,  0.16836034,\n",
       "         0.        , -1.01282954,  0.34258396, -0.68391661, -0.37044839,\n",
       "         1.01217049,  2.27499467, -2.39815746,  1.1552911 ],\n",
       "       [-1.28339593,  0.7100227 ,  1.01151316,  0.18725724, -1.46853766,\n",
       "         0.        ,  0.90732647, -0.06000058, -0.68391661, -0.99860002,\n",
       "         1.01217049, -0.6824984 , -0.60936788, -0.97935845],\n",
       "       [-0.38888924, -1.40840568,  0.03228233, -0.68941974,  0.0534903 ,\n",
       "         0.        ,  0.90732647,  0.54387622, -0.68391661,  0.15301129,\n",
       "         1.01217049, -0.6824984 , -0.60936788,  0.08796633],\n",
       "       [ 0.84105746, -1.40840568, -0.94694849,  0.18725724,  1.74782332,\n",
       "         0.        , -1.01282954,  0.89613769, -0.68391661, -0.99860002,\n",
       "         1.01217049, -0.6824984 , -0.60936788,  1.1552911 ],\n",
       "       [ 0.61743079,  0.7100227 , -0.94694849,  0.73518035,  0.80014553,\n",
       "         0.        , -1.01282954,  1.50001449, -0.68391661, -0.99860002,\n",
       "         1.01217049, -0.6824984 , -0.60936788,  0.08796633],\n",
       "       [ 0.84105746,  0.7100227 , -0.94694849, -0.68941974,  0.48425294,\n",
       "         0.        ,  0.90732647, -0.56323125,  1.46216655,  2.35154198,\n",
       "        -0.67787565,  0.79624813,  1.1794217 ,  1.1552911 ],\n",
       "       [ 0.17017744,  0.7100227 , -0.94694849,  0.29684186,  1.86269335,\n",
       "         0.        ,  0.90732647, -0.81484658,  1.46216655,  0.25770323,\n",
       "        -0.67787565,  0.79624813,  1.1794217 ,  0.08796633],\n",
       "       [ 0.39380411,  0.7100227 , -0.94694849,  0.29684186, -0.86546997,\n",
       "         0.        ,  0.90732647,  0.84581462,  1.46216655, -0.99860002,\n",
       "         1.01217049, -0.6824984 ,  1.1794217 ,  0.08796633],\n",
       "       [ 1.51193748, -1.40840568, -0.94694849, -1.34692747, -0.46342485,\n",
       "         0.        ,  0.90732647, -0.46258511, -0.68391661, -0.68452421,\n",
       "         1.01217049,  2.27499467, -0.60936788,  1.1552911 ],\n",
       "       [-1.28339593, -1.40840568,  1.01151316, -0.68941974, -0.80803496,\n",
       "         0.        ,  0.90732647,  1.09742996, -0.68391661, -0.99860002,\n",
       "        -0.67787565, -0.6824984 , -0.60936788, -0.97935845]])"
      ]
     },
     "execution_count": 33,
     "metadata": {},
     "output_type": "execute_result"
    }
   ],
   "source": [
    "X_test"
   ]
  },
  {
   "cell_type": "markdown",
   "id": "f7791991",
   "metadata": {
    "papermill": {
     "duration": 0.019199,
     "end_time": "2024-07-24T13:56:26.789361",
     "exception": false,
     "start_time": "2024-07-24T13:56:26.770162",
     "status": "completed"
    },
    "tags": []
   },
   "source": [
    "\n",
    "<div style=\"border-radius: 0px 40px; border: 2px solid #ffea00; padding: 10px; background-color: #6082B6; text-align: center; box-shadow: 0px 2px 4px rgba(0, 0, 0, 0.2);\">\n",
    "    <h1 style=\"color: #ffff00; text-shadow: 1px 1px 2px rgba(0, 0, 0, 0.5); font-weight: bold; margin-bottom: 5px; font-size: 24px;\">Best Model Select</h1>\n",
    "</div>"
   ]
  },
  {
   "cell_type": "code",
   "execution_count": 34,
   "id": "7ba375db",
   "metadata": {
    "execution": {
     "iopub.execute_input": "2024-07-24T13:56:26.831343Z",
     "iopub.status.busy": "2024-07-24T13:56:26.830377Z",
     "iopub.status.idle": "2024-07-24T13:56:26.836648Z",
     "shell.execute_reply": "2024-07-24T13:56:26.835528Z"
    },
    "papermill": {
     "duration": 0.030191,
     "end_time": "2024-07-24T13:56:26.838837",
     "exception": false,
     "start_time": "2024-07-24T13:56:26.808646",
     "status": "completed"
    },
    "tags": []
   },
   "outputs": [],
   "source": [
    "from sklearn.linear_model import LogisticRegression\n",
    "from sklearn.naive_bayes import GaussianNB\n",
    "from sklearn.neighbors import KNeighborsClassifier\n",
    "from sklearn.svm import SVC\n",
    "from sklearn.tree import DecisionTreeClassifier\n",
    "from sklearn.ensemble import RandomForestClassifier,GradientBoostingClassifier\n",
    "from xgboost import XGBClassifier"
   ]
  },
  {
   "cell_type": "code",
   "execution_count": 35,
   "id": "1fd37cf6",
   "metadata": {
    "execution": {
     "iopub.execute_input": "2024-07-24T13:56:26.880183Z",
     "iopub.status.busy": "2024-07-24T13:56:26.879803Z",
     "iopub.status.idle": "2024-07-24T13:56:26.886100Z",
     "shell.execute_reply": "2024-07-24T13:56:26.884951Z"
    },
    "papermill": {
     "duration": 0.029431,
     "end_time": "2024-07-24T13:56:26.888515",
     "exception": false,
     "start_time": "2024-07-24T13:56:26.859084",
     "status": "completed"
    },
    "tags": []
   },
   "outputs": [],
   "source": [
    "models={\n",
    "    'LogisticRegression':LogisticRegression(),\n",
    "    'SVC':SVC(),\n",
    "    'GaussianNB':GaussianNB(),\n",
    "    'KNeighborsClassifier':KNeighborsClassifier(),\n",
    "    'DecisionTreeClassifier':DecisionTreeClassifier(),\n",
    "    'RandomForestClassifier':RandomForestClassifier(),\n",
    "    'GradientBoostingClassifier':GradientBoostingClassifier(),\n",
    "    'XGBClassifier':XGBClassifier()\n",
    "    }"
   ]
  },
  {
   "cell_type": "markdown",
   "id": "14ea3830",
   "metadata": {
    "papermill": {
     "duration": 0.019792,
     "end_time": "2024-07-24T13:56:26.928246",
     "exception": false,
     "start_time": "2024-07-24T13:56:26.908454",
     "status": "completed"
    },
    "tags": []
   },
   "source": [
    "\n",
    "<div style=\"border-radius: 0px 40px; border: 2px solid #ffea00; padding: 10px; background-color: #6082B6; text-align: center; box-shadow: 0px 2px 4px rgba(0, 0, 0, 0.2);\">\n",
    "    <h1 style=\"color: #ffff00; text-shadow: 1px 1px 2px rgba(0, 0, 0, 0.5); font-weight: bold; margin-bottom: 5px; font-size: 24px;\">Accuracy </h1>\n",
    "</div>\n",
    "\n",
    "- compare all model then batter Accuracy Score XGBClassifier is  0.87 rather then other model in this case/dataset "
   ]
  },
  {
   "cell_type": "code",
   "execution_count": 36,
   "id": "66b224f3",
   "metadata": {
    "execution": {
     "iopub.execute_input": "2024-07-24T13:56:26.969222Z",
     "iopub.status.busy": "2024-07-24T13:56:26.968820Z",
     "iopub.status.idle": "2024-07-24T13:56:27.368256Z",
     "shell.execute_reply": "2024-07-24T13:56:27.367384Z"
    },
    "papermill": {
     "duration": 0.42248,
     "end_time": "2024-07-24T13:56:27.370504",
     "exception": false,
     "start_time": "2024-07-24T13:56:26.948024",
     "status": "completed"
    },
    "tags": []
   },
   "outputs": [
    {
     "name": "stdout",
     "output_type": "stream",
     "text": [
      "Accuracy Score LogisticRegression is  0.76\n",
      "Accuracy Score SVC is  0.78\n",
      "Accuracy Score GaussianNB is  0.74\n",
      "Accuracy Score KNeighborsClassifier is  0.76\n",
      "Accuracy Score DecisionTreeClassifier is  0.72\n",
      "Accuracy Score RandomForestClassifier is  0.74\n",
      "Accuracy Score GradientBoostingClassifier is  0.83\n",
      "Accuracy Score XGBClassifier is  0.87\n",
      "CPU times: user 497 ms, sys: 13.4 ms, total: 511 ms\n",
      "Wall time: 393 ms\n"
     ]
    }
   ],
   "source": [
    "%%time\n",
    "model_scores = []\n",
    "for names,model in models.items():\n",
    "  model.fit(X_train,y_train)\n",
    "  y_pred=model.predict(X_test)\n",
    "  metric=accuracy_score(y_test,y_pred)\n",
    "  model_scores.append((names,metric))\n",
    "\n",
    "for model in model_scores:\n",
    "    print('Accuracy Score', f\"{model[0]} is {model[1]: .2f}\") "
   ]
  },
  {
   "cell_type": "markdown",
   "id": "c37e1054",
   "metadata": {
    "papermill": {
     "duration": 0.018865,
     "end_time": "2024-07-24T13:56:27.408724",
     "exception": false,
     "start_time": "2024-07-24T13:56:27.389859",
     "status": "completed"
    },
    "tags": []
   },
   "source": [
    "\n",
    "<div style=\"border-radius: 0px 40px; border: 2px solid #ffea00; padding: 10px; background-color: #6082B6; text-align: center; box-shadow: 0px 2px 4px rgba(0, 0, 0, 0.2);\">\n",
    "    <h1 style=\"color: #ffff00; text-shadow: 1px 1px 2px rgba(0, 0, 0, 0.5); font-weight: bold; margin-bottom: 5px; font-size: 24px;\">Confusion_matrix</h1>\n",
    "</div>"
   ]
  },
  {
   "cell_type": "code",
   "execution_count": 37,
   "id": "2d2dfb43",
   "metadata": {
    "execution": {
     "iopub.execute_input": "2024-07-24T13:56:27.449091Z",
     "iopub.status.busy": "2024-07-24T13:56:27.448696Z",
     "iopub.status.idle": "2024-07-24T13:56:27.793890Z",
     "shell.execute_reply": "2024-07-24T13:56:27.792710Z"
    },
    "papermill": {
     "duration": 0.368355,
     "end_time": "2024-07-24T13:56:27.796530",
     "exception": false,
     "start_time": "2024-07-24T13:56:27.428175",
     "status": "completed"
    },
    "tags": []
   },
   "outputs": [
    {
     "name": "stdout",
     "output_type": "stream",
     "text": [
      "confusion_matrix :\n",
      "  LogisticRegression \n",
      " [[10 11]\n",
      " [ 0 25]]\n",
      "confusion_matrix :\n",
      "  SVC \n",
      " [[12  9]\n",
      " [ 1 24]]\n",
      "confusion_matrix :\n",
      "  GaussianNB \n",
      " [[13  8]\n",
      " [ 4 21]]\n",
      "confusion_matrix :\n",
      "  KNeighborsClassifier \n",
      " [[12  9]\n",
      " [ 2 23]]\n",
      "confusion_matrix :\n",
      "  DecisionTreeClassifier \n",
      " [[11 10]\n",
      " [ 4 21]]\n",
      "confusion_matrix :\n",
      "  RandomForestClassifier \n",
      " [[12  9]\n",
      " [ 2 23]]\n",
      "confusion_matrix :\n",
      "  GradientBoostingClassifier \n",
      " [[14  7]\n",
      " [ 1 24]]\n",
      "confusion_matrix :\n",
      "  XGBClassifier \n",
      " [[15  6]\n",
      " [ 0 25]]\n",
      "CPU times: user 437 ms, sys: 7.99 ms, total: 445 ms\n",
      "Wall time: 336 ms\n"
     ]
    }
   ],
   "source": [
    "%%time\n",
    "model_scores = []\n",
    "for names,model in models.items():\n",
    "  model.fit(X_train,y_train)\n",
    "  y_pred=model.predict(X_test)\n",
    "  metric=confusion_matrix(y_test,y_pred)\n",
    "  model_scores.append((names,metric))\n",
    "\n",
    "for model in model_scores:\n",
    "    print('confusion_matrix :\\n ', model[0],'\\n' ,model[1]) \n"
   ]
  },
  {
   "cell_type": "code",
   "execution_count": 38,
   "id": "17fe3506",
   "metadata": {
    "execution": {
     "iopub.execute_input": "2024-07-24T13:56:27.837797Z",
     "iopub.status.busy": "2024-07-24T13:56:27.837257Z",
     "iopub.status.idle": "2024-07-24T13:56:29.674713Z",
     "shell.execute_reply": "2024-07-24T13:56:29.673271Z"
    },
    "papermill": {
     "duration": 1.861042,
     "end_time": "2024-07-24T13:56:29.677418",
     "exception": false,
     "start_time": "2024-07-24T13:56:27.816376",
     "status": "completed"
    },
    "tags": []
   },
   "outputs": [
    {
     "name": "stdout",
     "output_type": "stream",
     "text": [
      "LogisticRegression\n",
      "SVC\n",
      "GaussianNB\n",
      "KNeighborsClassifier\n",
      "DecisionTreeClassifier\n",
      "RandomForestClassifier\n",
      "GradientBoostingClassifier\n",
      "XGBClassifier\n"
     ]
    },
    {
     "data": {
      "image/png": "[encoded data removed]",
      "text/plain": [
       "<Figure size 640x480 with 2 Axes>"
      ]
     },
     "metadata": {},
     "output_type": "display_data"
    },
    {
     "data": {
      "image/png": "[encoded data removed]",
      "text/plain": [
       "<Figure size 640x480 with 2 Axes>"
      ]
     },
     "metadata": {},
     "output_type": "display_data"
    },
    {
     "data": {
      "image/png": "[encoded data removed]",
      "text/plain": [
       "<Figure size 640x480 with 2 Axes>"
      ]
     },
     "metadata": {},
     "output_type": "display_data"
    },
    {
     "data": {
      "image/png": "[encoded data removed]",
      "text/plain": [
       "<Figure size 640x480 with 2 Axes>"
      ]
     },
     "metadata": {},
     "output_type": "display_data"
    },
    {
     "data": {
      "image/png": "[encoded data removed]",
      "text/plain": [
       "<Figure size 640x480 with 2 Axes>"
      ]
     },
     "metadata": {},
     "output_type": "display_data"
    },
    {
     "data": {
      "image/png": "[encoded data removed]",
      "text/plain": [
       "<Figure size 640x480 with 2 Axes>"
      ]
     },
     "metadata": {},
     "output_type": "display_data"
    },
    {
     "data": {
      "image/png": "[encoded data removed]",
      "text/plain": [
       "<Figure size 640x480 with 2 Axes>"
      ]
     },
     "metadata": {},
     "output_type": "display_data"
    },
    {
     "data": {
      "image/png": "[encoded data removed]",
      "text/plain": [
       "<Figure size 640x480 with 2 Axes>"
      ]
     },
     "metadata": {},
     "output_type": "display_data"
    }
   ],
   "source": [
    "for model in model_scores:\n",
    "    fig,ax=plt.subplots(nrows=1,ncols=1)\n",
    "    print(model[0])\n",
    "    sns.heatmap(model[1],annot=True)"
   ]
  },
  {
   "cell_type": "markdown",
   "id": "0c216123",
   "metadata": {
    "papermill": {
     "duration": 0.021402,
     "end_time": "2024-07-24T13:56:29.720466",
     "exception": false,
     "start_time": "2024-07-24T13:56:29.699064",
     "status": "completed"
    },
    "tags": []
   },
   "source": [
    "<div style=\"border-radius: 0px 40px; border: 2px solid #ffea00; padding: 10px; background-color: #6082B6; text-align: center; box-shadow: 0px 2px 4px rgba(0, 0, 0, 0.2);\">\n",
    "    <h1 style=\"color: #ffff00; text-shadow: 1px 1px 2px rgba(0, 0, 0, 0.5); font-weight: bold; margin-bottom: 5px; font-size: 24px;\">classification_report</h1>\n",
    "</div>"
   ]
  },
  {
   "cell_type": "code",
   "execution_count": 39,
   "id": "1c911e8c",
   "metadata": {
    "execution": {
     "iopub.execute_input": "2024-07-24T13:56:29.765526Z",
     "iopub.status.busy": "2024-07-24T13:56:29.765126Z",
     "iopub.status.idle": "2024-07-24T13:56:30.166866Z",
     "shell.execute_reply": "2024-07-24T13:56:30.164702Z"
    },
    "papermill": {
     "duration": 0.427228,
     "end_time": "2024-07-24T13:56:30.169410",
     "exception": false,
     "start_time": "2024-07-24T13:56:29.742182",
     "status": "completed"
    },
    "tags": []
   },
   "outputs": [
    {
     "name": "stdout",
     "output_type": "stream",
     "text": [
      "LogisticRegression \n",
      "               precision    recall  f1-score   support\n",
      "\n",
      "           0       1.00      0.48      0.65        21\n",
      "           1       0.69      1.00      0.82        25\n",
      "\n",
      "    accuracy                           0.76        46\n",
      "   macro avg       0.85      0.74      0.73        46\n",
      "weighted avg       0.83      0.76      0.74        46\n",
      "\n",
      "SVC \n",
      "               precision    recall  f1-score   support\n",
      "\n",
      "           0       0.92      0.57      0.71        21\n",
      "           1       0.73      0.96      0.83        25\n",
      "\n",
      "    accuracy                           0.78        46\n",
      "   macro avg       0.83      0.77      0.77        46\n",
      "weighted avg       0.82      0.78      0.77        46\n",
      "\n",
      "GaussianNB \n",
      "               precision    recall  f1-score   support\n",
      "\n",
      "           0       0.76      0.62      0.68        21\n",
      "           1       0.72      0.84      0.78        25\n",
      "\n",
      "    accuracy                           0.74        46\n",
      "   macro avg       0.74      0.73      0.73        46\n",
      "weighted avg       0.74      0.74      0.74        46\n",
      "\n",
      "KNeighborsClassifier \n",
      "               precision    recall  f1-score   support\n",
      "\n",
      "           0       0.86      0.57      0.69        21\n",
      "           1       0.72      0.92      0.81        25\n",
      "\n",
      "    accuracy                           0.76        46\n",
      "   macro avg       0.79      0.75      0.75        46\n",
      "weighted avg       0.78      0.76      0.75        46\n",
      "\n",
      "DecisionTreeClassifier \n",
      "               precision    recall  f1-score   support\n",
      "\n",
      "           0       0.68      0.62      0.65        21\n",
      "           1       0.70      0.76      0.73        25\n",
      "\n",
      "    accuracy                           0.70        46\n",
      "   macro avg       0.69      0.69      0.69        46\n",
      "weighted avg       0.69      0.70      0.69        46\n",
      "\n",
      "RandomForestClassifier \n",
      "               precision    recall  f1-score   support\n",
      "\n",
      "           0       0.88      0.67      0.76        21\n",
      "           1       0.77      0.92      0.84        25\n",
      "\n",
      "    accuracy                           0.80        46\n",
      "   macro avg       0.82      0.79      0.80        46\n",
      "weighted avg       0.82      0.80      0.80        46\n",
      "\n",
      "GradientBoostingClassifier \n",
      "               precision    recall  f1-score   support\n",
      "\n",
      "           0       0.93      0.67      0.78        21\n",
      "           1       0.77      0.96      0.86        25\n",
      "\n",
      "    accuracy                           0.83        46\n",
      "   macro avg       0.85      0.81      0.82        46\n",
      "weighted avg       0.85      0.83      0.82        46\n",
      "\n",
      "XGBClassifier \n",
      "               precision    recall  f1-score   support\n",
      "\n",
      "           0       1.00      0.71      0.83        21\n",
      "           1       0.81      1.00      0.89        25\n",
      "\n",
      "    accuracy                           0.87        46\n",
      "   macro avg       0.90      0.86      0.86        46\n",
      "weighted avg       0.89      0.87      0.87        46\n",
      "\n",
      "CPU times: user 516 ms, sys: 6.19 ms, total: 522 ms\n",
      "Wall time: 394 ms\n"
     ]
    }
   ],
   "source": [
    "%%time\n",
    "model_scores = []\n",
    "for names,model in models.items():\n",
    "  model.fit(X_train,y_train)\n",
    "  y_pred=model.predict(X_test)\n",
    "  metric=classification_report(y_test,y_pred)\n",
    "  model_scores.append((names,metric))\n",
    "\n",
    "for model in model_scores:\n",
    "    print(model[0],'\\n' ,model[1]) \n"
   ]
  },
  {
   "cell_type": "code",
   "execution_count": null,
   "id": "a2c0a80b",
   "metadata": {
    "papermill": {
     "duration": 0.023257,
     "end_time": "2024-07-24T13:56:30.214730",
     "exception": false,
     "start_time": "2024-07-24T13:56:30.191473",
     "status": "completed"
    },
    "tags": []
   },
   "outputs": [],
   "source": []
  }
 ],
 "metadata": {
  "kaggle": {
   "accelerator": "none",
   "dataSources": [
    {
     "datasetId": 1226038,
     "sourceId": 2047221,
     "sourceType": "datasetVersion"
    }
   ],
   "dockerImageVersionId": 30746,
   "isGpuEnabled": false,
   "isInternetEnabled": false,
   "language": "python",
   "sourceType": "notebook"
  },
  "kernelspec": {
   "display_name": "Python 3",
   "language": "python",
   "name": "python3"
  },
  "language_info": {
   "codemirror_mode": {
    "name": "ipython",
    "version": 3
   },
   "file_extension": ".py",
   "mimetype": "text/x-python",
   "name": "python",
   "nbconvert_exporter": "python",
   "pygments_lexer": "ipython3",
   "version": "3.10.13"
  },
  "papermill": {
   "default_parameters": {},
   "duration": 15.12191,
   "end_time": "2024-07-24T13:56:30.959414",
   "environment_variables": {},
   "exception": null,
   "input_path": "__notebook__.ipynb",
   "output_path": "__notebook__.ipynb",
   "parameters": {},
   "start_time": "2024-07-24T13:56:15.837504",
   "version": "2.5.0"
  }
 },
 "nbformat": 4,
 "nbformat_minor": 5
}
